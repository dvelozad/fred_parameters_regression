{
 "cells": [
  {
   "cell_type": "code",
   "execution_count": 1,
   "id": "9221790e",
   "metadata": {},
   "outputs": [],
   "source": [
    "## ~0.7 variantgamma_transmissibility+variantgamma_imports_factor+variantgamma_cross_protection_prob\n",
    "## ~0.5 variable_alpha + variantgamma_transmissibility_factor - GradientBoostingRegressor\n",
    "## ~0.6 variable_alpha + variantgamma_severity_factor - GradientBoostingRegressor\n",
    "\n",
    "import numpy as np\n",
    "import pandas as pd\n",
    "from tqdm import tqdm\n",
    "import os\n",
    "from load_functions import *\n",
    "from variable_assignation import *"
   ]
  },
  {
   "cell_type": "markdown",
   "id": "d75573f8",
   "metadata": {},
   "source": [
    "# Variables"
   ]
  },
  {
   "cell_type": "code",
   "execution_count": 7,
   "id": "bddb1a74",
   "metadata": {},
   "outputs": [],
   "source": [
    "variant = 'alpha'\n",
    "input_files_folder = '../input_files'\n",
    "output_files_folder = f'../input_files/{variant}'"
   ]
  },
  {
   "cell_type": "code",
   "execution_count": 8,
   "id": "4f9dd729",
   "metadata": {},
   "outputs": [],
   "source": [
    "## create folder\n",
    "directory = output_files_folder\n",
    "if not os.path.exists(directory):\n",
    "    os.makedirs(directory)\n",
    "    print(\"Directory '%s' created\" %directory)"
   ]
  },
  {
   "cell_type": "markdown",
   "id": "916d0161",
   "metadata": {},
   "source": [
    "# Transform data\n",
    "## Load info"
   ]
  },
  {
   "cell_type": "code",
   "execution_count": 4,
   "id": "fc9fa23c",
   "metadata": {},
   "outputs": [],
   "source": [
    "df_data = pd.read_csv(f'{input_files_folder}/fred_output.csv')\n",
    "df_params = pd.read_csv(f'{input_files_folder}/FRED_parameters_out.csv')"
   ]
  },
  {
   "cell_type": "code",
   "execution_count": 9,
   "id": "22ae3085",
   "metadata": {},
   "outputs": [],
   "source": [
    "job_list = df_data['job_id'].unique()"
   ]
  },
  {
   "cell_type": "markdown",
   "id": "fa878621",
   "metadata": {},
   "source": [
    "## Process and format data"
   ]
  },
  {
   "cell_type": "code",
   "execution_count": null,
   "id": "e68b5e58",
   "metadata": {},
   "outputs": [
    {
     "name": "stderr",
     "output_type": "stream",
     "text": [
      " 33%|███▎      | 656/1979 [01:17<05:57,  3.70it/s]"
     ]
    }
   ],
   "source": [
    "df_data_prop_var = pd.DataFrame({})\n",
    "df_data_prop_deaths_var = pd.DataFrame({})\n",
    "for job_id in tqdm(job_list):\n",
    "    mask_data = (df_data['job_id'] == job_id) \n",
    "    mask_params = (df_params['job_id'] == job_id)\n",
    "\n",
    "    df_data_job = df_data[mask_data].copy()\n",
    "    df_params_job = df_params[mask_params].copy()\n",
    "    \n",
    "    labels = [[df_params_job[var].to_numpy()[0] for var in variables_vars[variant]]]\n",
    "    \n",
    "    cases_var_vector = df_data_job[f'C_{dic_var[variant]}_mean']\n",
    "    all_cases_vector =  df_data_job['C_1_mean'] + df_data_job['C_2_mean'] + df_data_job['C_3_mean'] + df_data_job['C_4_mean']\n",
    "    prop_var = cases_var_vector/all_cases_vector\n",
    "    \n",
    "    all_deaths_vector = df_data_job['CF_mean'] + df_data_job['CF_1_mean'] + df_data_job['CF_2_mean'] + df_data_job['CF_3_mean'] + df_data_job['CF_4_mean']\n",
    "    \n",
    "    train_data_1 = (prop_var).fillna(0)\n",
    "    train_data_2 = (prop_var * all_deaths_vector).fillna(0)\n",
    "\n",
    "    data_prop = [pd.Series(train_data_1.tolist())]\n",
    "    data_deaths = [pd.Series(train_data_2.tolist())]\n",
    "\n",
    "    df_data_prop_var = pd.concat([df_data_prop_var, pd.DataFrame({'dim_0':data_prop, 'y':labels})])\n",
    "    df_data_prop_deaths_var = pd.concat([df_data_prop_deaths_var, pd.DataFrame({'dim_0':data_deaths, 'y':labels})])\n",
    "\n",
    "save_obj(df_data_prop_var.reset_index(drop=True), f'{output_files_folder}/df_prop_{variant}')\n",
    "save_obj(df_data_prop_deaths_var.reset_index(drop=True), f'{output_files_folder}/df_prop_deaths_{variant}')"
   ]
  },
  {
   "cell_type": "code",
   "execution_count": null,
   "id": "1085bfa3-2a21-440d-9d15-12f3870092e4",
   "metadata": {},
   "outputs": [],
   "source": []
  }
 ],
 "metadata": {
  "kernelspec": {
   "display_name": "Python 3 (ipykernel)",
   "language": "python",
   "name": "python3"
  },
  "language_info": {
   "codemirror_mode": {
    "name": "ipython",
    "version": 3
   },
   "file_extension": ".py",
   "mimetype": "text/x-python",
   "name": "python",
   "nbconvert_exporter": "python",
   "pygments_lexer": "ipython3",
   "version": "3.9.7"
  },
  "vscode": {
   "interpreter": {
    "hash": "e54c91135946856665240a40f6e0527d4b65eebff412be21eef191e78ae5bc6c"
   }
  }
 },
 "nbformat": 4,
 "nbformat_minor": 5
}
