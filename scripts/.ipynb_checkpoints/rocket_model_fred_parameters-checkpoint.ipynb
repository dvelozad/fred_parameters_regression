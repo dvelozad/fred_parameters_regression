{
 "cells": [
  {
   "cell_type": "markdown",
   "id": "fb9c3ed8-6990-465e-babb-c29d3c610360",
   "metadata": {
    "jp-MarkdownHeadingCollapsed": true,
    "tags": []
   },
   "source": [
    "# Modules"
   ]
  },
  {
   "cell_type": "code",
   "execution_count": 1,
   "id": "467f5647-706f-43aa-b96c-fecdbcf3bf12",
   "metadata": {},
   "outputs": [],
   "source": [
    "import numpy as np\n",
    "import pandas as pd\n",
    "import matplotlib.pyplot as plt "
   ]
  },
  {
   "cell_type": "code",
   "execution_count": 2,
   "id": "327356e1-29d9-4557-bae4-a233244140af",
   "metadata": {},
   "outputs": [],
   "source": [
    "from sklearn.model_selection import GridSearchCV\n",
    "from sklearn.linear_model import ElasticNet, LassoLars\n",
    "from sklearn.preprocessing import StandardScaler\n",
    "\n",
    "from sklearn.ensemble import GradientBoostingRegressor, RandomForestRegressor, ExtraTreesRegressor\n",
    "from sklearn.multioutput import MultiOutputRegressor, RegressorChain\n",
    "\n",
    "from sklearn.model_selection import GridSearchCV, KFold\n",
    "from sklearn.metrics import mean_squared_error"
   ]
  },
  {
   "cell_type": "code",
   "execution_count": 3,
   "id": "12f37758-59c8-4786-9b6d-eefb105e6472",
   "metadata": {},
   "outputs": [],
   "source": [
    "from sktime.transformations.panel.rocket import Rocket"
   ]
  },
  {
   "cell_type": "code",
   "execution_count": 4,
   "id": "6bb35ee0-4b17-4f22-a0e8-7367ca00c8a6",
   "metadata": {},
   "outputs": [],
   "source": [
    "from sklearn.decomposition import PCA"
   ]
  },
  {
   "cell_type": "code",
   "execution_count": 5,
   "id": "f24b563a",
   "metadata": {},
   "outputs": [],
   "source": [
    "from variable_assignation import *\n",
    "from load_functions import *"
   ]
  },
  {
   "cell_type": "markdown",
   "id": "4c070188",
   "metadata": {
    "jp-MarkdownHeadingCollapsed": true,
    "tags": []
   },
   "source": [
    "# Load data"
   ]
  },
  {
   "cell_type": "code",
   "execution_count": 6,
   "id": "8e7c1486",
   "metadata": {},
   "outputs": [],
   "source": [
    "df_data_death, df_data_prop = {}, {}\n",
    "for variant in ['alpha', 'gamma', 'kappa', 'delta']:\n",
    "    input_files_folder = f'../input_files/{variant}'\n",
    "    df_data_death[variant] = load_obj(f'{input_files_folder}/df_prop_deaths_{variant}')\n",
    "    df_data_prop[variant] = load_obj(f'{input_files_folder}/df_prop_{variant}')\n",
    "\n",
    "all_variables = []\n",
    "for var_list in variables_vars.values():\n",
    "    all_variables += var_list"
   ]
  },
  {
   "cell_type": "markdown",
   "id": "b0a0e803",
   "metadata": {},
   "source": [
    "# Variables"
   ]
  },
  {
   "cell_type": "code",
   "execution_count": 7,
   "id": "e794c142",
   "metadata": {},
   "outputs": [],
   "source": [
    "target_variant_labels = ['alpha', 'gamma']\n",
    "add_variant_curve = ['alpha', 'gamma', 'kappa', 'delta']"
   ]
  },
  {
   "cell_type": "code",
   "execution_count": 8,
   "id": "1bbc4b12-dac9-4394-a1c6-9538c1708a73",
   "metadata": {},
   "outputs": [],
   "source": [
    "## ~0.7 variantgamma_transmissibility + variantgamma_imports_factor + variantgamma_cross_protection_prob\n",
    "## ~0.5 variable_alpha + variantgamma_transmissibility_factor - GradientBoostingRegressor\n",
    "## ~0.6 variable_alpha + variantgamma_severity_factor - GradientBoostingRegressor"
   ]
  },
  {
   "cell_type": "markdown",
   "id": "0269c388-e6ed-4c4b-8ac4-764c6aae94e8",
   "metadata": {},
   "source": [
    "# Data process"
   ]
  },
  {
   "cell_type": "code",
   "execution_count": 9,
   "id": "058a9de2-860c-47d8-a4a4-512018eb68dd",
   "metadata": {},
   "outputs": [],
   "source": [
    "tuple_lables = []\n",
    "for variant in target_variant_labels:\n",
    "    tuple_lables.append(df_data_death[variant]['y'].tolist())\n",
    "tuple_lables = tuple(tuple_lables)"
   ]
  },
  {
   "cell_type": "code",
   "execution_count": 10,
   "id": "744c6889-455f-4d75-837c-cca528445a2a",
   "metadata": {
    "tags": []
   },
   "outputs": [],
   "source": [
    "y_labels = []\n",
    "for labels in zip(*tuple_lables):\n",
    "    y_labels.append(np.concatenate(labels))\n",
    "y_labels = np.array(y_labels)[:,4:8]"
   ]
  },
  {
   "cell_type": "code",
   "execution_count": 11,
   "id": "bae5b2d5",
   "metadata": {},
   "outputs": [],
   "source": [
    "df_data = pd.DataFrame({})\n",
    "for n_var, variant in enumerate(add_variant_curve):\n",
    "    df_data[f'dim_{n_var}'] = df_data_death[variant]['dim_0']\n",
    "    df_data[f'dim_{n_var + len(add_variant_curve)}'] = df_data_prop[variant]['dim_0']"
   ]
  },
  {
   "cell_type": "markdown",
   "id": "3b49e414-b6e5-43f6-93f1-d603d10e95e8",
   "metadata": {},
   "source": [
    "## PCA label transformation"
   ]
  },
  {
   "cell_type": "code",
   "execution_count": 12,
   "id": "d21470ce-f54a-4c36-a33a-96572c791c20",
   "metadata": {},
   "outputs": [],
   "source": [
    "# Initialize PCA - keep enough components to explain, for example, 95% of variance\n",
    "# pca = PCA(n_components=0.99999) # alpha[:,:3] 0.99999 -> 0.9198530859936276\n",
    "pca = PCA(n_components=0.9999) \n",
    "\n",
    "# Fit and transform data\n",
    "y_labels_pca = pca.fit_transform(y_labels)"
   ]
  },
  {
   "cell_type": "code",
   "execution_count": 13,
   "id": "7045c2bd-e443-405c-8652-95c369a67f11",
   "metadata": {},
   "outputs": [],
   "source": [
    "n_train = 1950\n",
    "X_train = df_data[:n_train]\n",
    "y_train = np.array(y_labels[:n_train])\n",
    "y_train_pca = np.array(y_labels_pca[:n_train])\n",
    "\n",
    "X_test = df_data[n_train:]\n",
    "y_test = np.array(y_labels[n_train:])\n",
    "y_test_pca = np.array(y_labels_pca[n_train:])"
   ]
  },
  {
   "cell_type": "code",
   "execution_count": 14,
   "id": "b967aa7c-b665-4491-a84d-8b6b25e4d212",
   "metadata": {},
   "outputs": [
    {
     "name": "stdout",
     "output_type": "stream",
     "text": [
      "original shape y_train:        (1950, 4)\n",
      "original shape y_test:         (29, 4)\n",
      "transformed shape y_train:     (1950, 3)\n",
      "transformed shape y_test:      (29, 3)\n"
     ]
    }
   ],
   "source": [
    "print(f\"{'original shape y_train:': <30}\", y_train.shape)\n",
    "print(f\"{'original shape y_test:': <30}\", y_test.shape)\n",
    "\n",
    "print(f\"{'transformed shape y_train:': <30}\", y_train_pca.shape)\n",
    "print(f\"{'transformed shape y_test:': <30}\", y_test_pca.shape)"
   ]
  },
  {
   "cell_type": "code",
   "execution_count": 15,
   "id": "b7315470-048d-4c0c-bf82-112825699e36",
   "metadata": {},
   "outputs": [
    {
     "name": "stdout",
     "output_type": "stream",
     "text": [
      "################## Test point 0 ##################\n",
      "Test_pre:  [0.81840077 2.09562988 6.53723145 0.61318115]\n",
      "Test_post: [0.81826043 2.09568467 6.53723145 0.6131812 ]\n",
      "\n",
      "\n",
      "################## Test point 1 ##################\n",
      "Test_pre:  [0.5010973  1.28312988 2.97473145 0.64443115]\n",
      "Test_post: [0.50107817 1.28313735 2.97473145 0.64443116]\n",
      "\n",
      "\n",
      "################## Test point 2 ##################\n",
      "Test_pre:  [0.75494008 1.93312988 7.72473145 0.76943115]\n",
      "Test_post: [0.754864   1.93315958 7.72473145 0.76943118]\n",
      "\n",
      "\n",
      "################## Test point 3 ##################\n",
      "Test_pre:  [0.62801869 1.60812988 5.34973145 0.58193115]\n",
      "Test_post: [0.62793809 1.60816135 5.34973145 0.58193118]\n",
      "\n",
      "\n",
      "################## Test point 4 ##################\n",
      "Test_pre:  [0.88186146 2.25812988 0.59973145 0.70693115]\n",
      "Test_post: [0.88172176 2.25818442 0.59973145 0.70693119]\n",
      "\n",
      "\n"
     ]
    }
   ],
   "source": [
    "# Predict on the test set using the best model\n",
    "y_test_post = pca.inverse_transform(y_test_pca.reshape(np.shape(y_test_pca)))\n",
    "\n",
    "for n in range(5):\n",
    "    print(f' Test point {n} '.center(50, \"#\"))\n",
    "    print(f\"{'Test_pre:': <10}\", y_test[n])\n",
    "    print(f\"{'Test_post:': <10}\", y_test_post[n])\n",
    "    print('\\n')"
   ]
  },
  {
   "cell_type": "markdown",
   "id": "a2eb6e2a-e808-4fea-8593-6fe7e8ced785",
   "metadata": {},
   "source": [
    "## ROCKET Feature generation"
   ]
  },
  {
   "cell_type": "code",
   "execution_count": 16,
   "id": "43800248-c62e-4bcd-9b9a-ad7a7e99e0f8",
   "metadata": {},
   "outputs": [
    {
     "data": {
      "text/plain": [
       "Rocket(n_jobs=15, num_kernels=20000)"
      ]
     },
     "execution_count": 16,
     "metadata": {},
     "output_type": "execute_result"
    }
   ],
   "source": [
    "num_kernels = 20000\n",
    "rocket = Rocket(num_kernels=num_kernels, n_jobs=15)\n",
    "rocket.fit(X_train)"
   ]
  },
  {
   "cell_type": "code",
   "execution_count": 17,
   "id": "e8c7ca8e-8ba2-402b-a427-9a644a6cc39b",
   "metadata": {},
   "outputs": [
    {
     "name": "stdout",
     "output_type": "stream",
     "text": [
      "CPU times: user 1h 1min 22s, sys: 1.2 s, total: 1h 1min 23s\n",
      "Wall time: 4min 22s\n"
     ]
    }
   ],
   "source": [
    "%%time\n",
    "X_train_transform = rocket.transform(X_train)\n",
    "X_test_transform = rocket.transform(X_test)"
   ]
  },
  {
   "cell_type": "markdown",
   "id": "601a847b-422f-4ddb-9bef-d63b75381d87",
   "metadata": {},
   "source": [
    "# Train model"
   ]
  },
  {
   "cell_type": "markdown",
   "id": "7c532be7-81c5-461a-abef-138f02cc923b",
   "metadata": {
    "tags": []
   },
   "source": [
    "## Regressor chain"
   ]
  },
  {
   "cell_type": "code",
   "execution_count": 20,
   "id": "6451807a-2e36-414f-ab84-3cbfa0c60aea",
   "metadata": {},
   "outputs": [
    {
     "data": {
      "text/plain": [
       "RegressorChain(base_estimator=LassoLars(alpha=1e-07, normalize=True))"
      ]
     },
     "execution_count": 20,
     "metadata": {},
     "output_type": "execute_result"
    }
   ],
   "source": [
    "# Create the ElasticNet regressor\n",
    "regressor = LassoLars(alpha=1e-7, normalize=True)\n",
    "\n",
    "# Define regression chain\n",
    "chain = RegressorChain(base_estimator=regressor)\n",
    "chain.fit(X_train_transform, y_train_pca)"
   ]
  },
  {
   "cell_type": "code",
   "execution_count": 22,
   "id": "96168406-7f91-4393-a02c-4420e6652c11",
   "metadata": {},
   "outputs": [
    {
     "name": "stdout",
     "output_type": "stream",
     "text": [
      "Score:  0.6992881476118705\n"
     ]
    }
   ],
   "source": [
    "# Predict on the test set using the best model\n",
    "pca_pred = chain.predict(X_test_transform)\n",
    "y_pred = pca.inverse_transform(pca_pred.reshape(np.shape(y_test_pca)))\n",
    "\n",
    "# Predict on the test set using the best model\n",
    "print('Score: ', chain.score(X_test_transform, y_test_pca))"
   ]
  },
  {
   "cell_type": "code",
   "execution_count": 24,
   "id": "1a7094e5-6368-4736-8b64-ae814165306c",
   "metadata": {},
   "outputs": [
    {
     "name": "stdout",
     "output_type": "stream",
     "text": [
      "################## Test point 0 ##################\n",
      "Pred:      [0.82101332 2.10272075 6.7720529  0.63351205]\n",
      "Target:    [0.81840077 2.09562988 6.53723145 0.61318115]\n",
      "\n",
      "\n",
      "################## Test point 1 ##################\n",
      "Pred:      [0.52545456 1.34554962 3.66392762 0.68581547]\n",
      "Target:    [0.5010973  1.28312988 2.97473145 0.64443115]\n",
      "\n",
      "\n",
      "################## Test point 2 ##################\n",
      "Pred:      [0.73177904 1.87407155 8.52979779 0.70625089]\n",
      "Target:    [0.75494008 1.93312988 7.72473145 0.76943115]\n",
      "\n",
      "\n",
      "################## Test point 3 ##################\n",
      "Pred:      [0.65422208 1.67543696 5.52850557 0.65372253]\n",
      "Target:    [0.62801869 1.60812988 5.34973145 0.58193115]\n",
      "\n",
      "\n",
      "################## Test point 4 ##################\n",
      "Pred:      [0.84248302 2.1576844  0.63770985 0.68404858]\n",
      "Target:    [0.88186146 2.25812988 0.59973145 0.70693115]\n",
      "\n",
      "\n",
      "################## Test point 5 ##################\n",
      "Pred:      [0.80047792 2.05006663 1.99538809 0.70002298]\n",
      "Target:    [0.78667042 2.01437988 2.38098145 0.72255615]\n",
      "\n",
      "\n",
      "################## Test point 6 ##################\n",
      "Pred:      [0.57749199 1.47886817 7.39904628 0.66420396]\n",
      "Target:    [0.53282765 1.36437988 7.13098145 0.59755615]\n",
      "\n",
      "\n",
      "################## Test point 7 ##################\n",
      "Pred:      [0.85509972 2.19004868 8.8754414  0.62033739]\n",
      "Target:    [0.91359181 2.33937988 9.50598145 0.78505615]\n",
      "\n",
      "\n",
      "################## Test point 8 ##################\n",
      "Pred:      [0.66891581 1.71304526 4.57482354 0.69638517]\n",
      "Target:    [0.65974904 1.68937988 4.75598145 0.66005615]\n",
      "\n",
      "\n",
      "################## Test point 9 ##################\n",
      "Pred:      [0.7546739  1.93273409 6.10252564 0.69192306]\n",
      "Target:    [0.72320973 1.85187988 5.94348145 0.62880615]\n",
      "\n",
      "\n"
     ]
    }
   ],
   "source": [
    "for n in range(10):\n",
    "    print(f' Test point {n} '.center(50, \"#\"))\n",
    "    print(f\"{'Pred:': <10}\", y_pred[n])\n",
    "    print(f\"{'Target:': <10}\", y_test[n])\n",
    "    print('\\n')"
   ]
  },
  {
   "cell_type": "markdown",
   "id": "fdaf808a-1f9c-4e91-8ad7-0219983872b9",
   "metadata": {
    "jp-MarkdownHeadingCollapsed": true,
    "tags": []
   },
   "source": [
    "## Grid Search"
   ]
  },
  {
   "cell_type": "code",
   "execution_count": 25,
   "id": "ab69c018-a8be-4b5b-9be1-84d1b0023120",
   "metadata": {},
   "outputs": [
    {
     "name": "stdout",
     "output_type": "stream",
     "text": [
      "Best Hyperparameters: {'alpha': 1e-07}\n",
      "Best Score: 0.6851986684269541\n",
      "CPU times: user 2h 35min 24s, sys: 2h 55min 7s, total: 5h 30min 32s\n",
      "Wall time: 31min 39s\n"
     ]
    }
   ],
   "source": [
    "%%time\n",
    "# Standardize the transformed features\n",
    "# scaler = StandardScaler()\n",
    "# X_train_transform = scaler.fit_transform(X_train_transform)\n",
    "# X_test_transform = scaler.transform(X_test_transform)\n",
    "\n",
    "# Create the ElasticNet regressor\n",
    "regressor = LassoLars(normalize=True)\n",
    "\n",
    "# Define the parameter grid for grid search\n",
    "param_grid = {\n",
    "    'alpha': np.linspace(1e-7,1e-6,1),\n",
    "}\n",
    "#0.001\n",
    "# Perform grid search\n",
    "grid_search = GridSearchCV(regressor, param_grid)\n",
    "grid_search.fit(X_train_transform, y_train_pca)\n",
    "\n",
    "# Print the best hyperparameters and the corresponding score\n",
    "print(\"Best Hyperparameters:\", grid_search.best_params_)\n",
    "print(\"Best Score:\", grid_search.best_score_)\n",
    "\n",
    "# Get the best model and its hyperparameters\n",
    "best_model = grid_search.best_estimator_\n",
    "best_params = grid_search.best_params_\n",
    "\n",
    "# Predict on the test set using the best model\n",
    "pca_pred = best_model.predict(X_test_transform)\n",
    "y_pred = pca.inverse_transform(pca_pred.reshape(np.shape(y_test_pca)))\n",
    "\n",
    "# Predict on the test set using the best model\n",
    "print('Score: ', best_model.score(X_test_transform, y_test_pca))"
   ]
  },
  {
   "cell_type": "code",
   "execution_count": 72,
   "id": "00a6b5da-edc0-4bd8-a981-729271e7f9d9",
   "metadata": {},
   "outputs": [
    {
     "name": "stdout",
     "output_type": "stream",
     "text": [
      "################## Test point 0 ##################\n",
      "Pred:      [0.81782004 2.09453465 6.35445222 0.64142241]\n",
      "Target:    [0.81840077 2.09562988 6.53723145 0.61318115]\n",
      "\n",
      "\n",
      "################## Test point 1 ##################\n",
      "Pred:      [0.50141582 1.28396368 3.88178775 0.69323248]\n",
      "Target:    [0.5010973  1.28312988 2.97473145 0.64443115]\n",
      "\n",
      "\n",
      "################## Test point 2 ##################\n",
      "Pred:      [0.71890668 1.84112862 8.31081901 0.66517127]\n",
      "Target:    [0.75494008 1.93312988 7.72473145 0.76943115]\n",
      "\n",
      "\n",
      "################## Test point 3 ##################\n",
      "Pred:      [0.63899826 1.63643507 5.45257725 0.65767805]\n",
      "Target:    [0.62801869 1.60812988 5.34973145 0.58193115]\n",
      "\n",
      "\n",
      "################## Test point 4 ##################\n",
      "Pred:      [0.88431229 2.26484523 0.00916891 0.6758042 ]\n",
      "Target:    [0.88186146 2.25812988 0.59973145 0.70693115]\n",
      "\n",
      "\n"
     ]
    }
   ],
   "source": [
    "for n in range(5):\n",
    "    print(f' Test point {n} '.center(50, \"#\"))\n",
    "    print(f\"{'Pred:': <10}\", y_pred[n])\n",
    "    print(f\"{'Target:': <10}\", y_test[n])\n",
    "    print('\\n')"
   ]
  },
  {
   "cell_type": "code",
   "execution_count": null,
   "id": "59159419-2659-4409-85fd-d1a0f29c3355",
   "metadata": {},
   "outputs": [],
   "source": [
    "# %%time\n",
    "# # Define the ML model with MultiOutputRegressor and ExtraTreesRegressor\n",
    "# model = MultiOutputRegressor(ExtraTreesRegressor(random_state=0), n_jobs=-1)\n",
    "\n",
    "# model.fit(X_train_transform, y_train_pca)\n",
    "\n",
    "# # Predict on the test set using the best model\n",
    "# y_pred_pca = model.predict(X_test_transform)\n",
    "\n",
    "# # Evaluate the model using mean squared error\n",
    "# mse = mean_squared_error(y_test_pca, y_pred_pca)\n",
    "# print(\"Mean Squared Error:\", mse)\n",
    "\n",
    "# print('Score: ',model.score(X_test_transform, y_test_pca))\n",
    "# print('####################')\n",
    "# y_pred_pca = model.predict(X_test_transform)\n",
    "# for n in range(20):\n",
    "#     print('Pred:  ',y_pred_pca[n])\n",
    "#     print('Target:',y_test_pca[n])\n",
    "#     print('####################')\n",
    "\n",
    "# from sklearn import linear_model\n",
    "# reg = linear_model.LassoLars(alpha=0.000001, normalize=True)\n",
    "\n",
    "# classifier = RegressorChain(reg)\n",
    "# classifier.fit(X_train_transform, y_train)\n",
    "\n",
    "# # ~0.6 - 3 parameters\n",
    "\n",
    "# # from sklearn import linear_model\n",
    "# # reg = linear_model.LassoLarsIC(criterion='bic', normalize=True)\n",
    "\n",
    "# from sklearn.linear_model import LassoLarsCV\n",
    "# # # reg = LassoLarsCV(cv=3, normalize=True)\n",
    "\n",
    "# # from sklearn.linear_model import ElasticNet\n",
    "# # reg = ElasticNet(alpha=0.1, l1_ratio=0.1, normalize=False, random_state=0)\n",
    "\n",
    "# # from sklearn import linear_model\n",
    "# # reg = linear_model.TweedieRegressor(alpha=0.1, max_iter=1500, link='identity')\n",
    "# # # 0.37 - 4 parameters alpha=0.1, max_iter=1500, link='identity'\n",
    "\n",
    "# from sklearn.linear_model import RANSACRegressor\n",
    "# reg = RANSACRegressor(random_state=0, min_samples=0.99)\n",
    "\n",
    "# # scaler = preprocessing.StandardScaler().fit(X_train_twe)\n",
    "# # X_train_scaled = scaler.transform(X_train_twe)"
   ]
  }
 ],
 "metadata": {
  "kernelspec": {
   "display_name": "sktime_env",
   "language": "python",
   "name": "sktime_env"
  },
  "language_info": {
   "codemirror_mode": {
    "name": "ipython",
    "version": 3
   },
   "file_extension": ".py",
   "mimetype": "text/x-python",
   "name": "python",
   "nbconvert_exporter": "python",
   "pygments_lexer": "ipython3",
   "version": "3.9.12"
  },
  "vscode": {
   "interpreter": {
    "hash": "e54c91135946856665240a40f6e0527d4b65eebff412be21eef191e78ae5bc6c"
   }
  }
 },
 "nbformat": 4,
 "nbformat_minor": 5
}
