{
 "cells": [
  {
   "cell_type": "code",
   "execution_count": 2,
   "id": "467f5647-706f-43aa-b96c-fecdbcf3bf12",
   "metadata": {},
   "outputs": [],
   "source": [
    "import numpy as np\n",
    "import pandas as pd\n",
    "import matplotlib.pyplot as plt \n",
    "\n",
    "from sklearn.model_selection import train_test_split, GridSearchCV\n",
    "from sklearn.metrics import mean_squared_error\n",
    "from sklearn.multioutput import RegressorChain\n",
    "from sktime.transformations.panel.rocket import Rocket"
   ]
  },
  {
   "cell_type": "code",
   "execution_count": 3,
   "id": "f24b563a",
   "metadata": {},
   "outputs": [],
   "source": [
    "from variable_assignation import *\n",
    "from load_functions import *"
   ]
  },
  {
   "cell_type": "code",
   "execution_count": null,
   "id": "327356e1-29d9-4557-bae4-a233244140af",
   "metadata": {},
   "outputs": [],
   "source": [
    "from sklearn.model_selection import GridSearchCV\n",
    "from sklearn.linear_model import ElasticNet, LassoLars\n",
    "from sklearn.preprocessing import StandardScaler"
   ]
  },
  {
   "cell_type": "markdown",
   "id": "b0a0e803",
   "metadata": {},
   "source": [
    "# Variables"
   ]
  },
  {
   "cell_type": "code",
   "execution_count": 51,
   "id": "e794c142",
   "metadata": {},
   "outputs": [],
   "source": [
    "target_variant = 'delta'\n",
    "num_kernels = 10000"
   ]
  },
  {
   "cell_type": "markdown",
   "id": "4c070188",
   "metadata": {},
   "source": [
    "# Load data"
   ]
  },
  {
   "cell_type": "code",
   "execution_count": 52,
   "id": "8e7c1486",
   "metadata": {},
   "outputs": [],
   "source": [
    "df_data_death, df_data_prop = {}, {}\n",
    "# for variant in ['alpha', 'gamma', 'kappa', 'delta']:\n",
    "for variant in ['delta']:\n",
    "    input_files_folder = f'../input_files/{variant}'\n",
    "    df_data_death[variant] = load_obj(f'{input_files_folder}/df_prop_deaths_{variant}')\n",
    "    df_data_prop[variant] = load_obj(f'{input_files_folder}/df_prop_{variant}')\n",
    "\n",
    "all_variables = []\n",
    "for var_list in variables_vars.values():\n",
    "    all_variables += var_list"
   ]
  },
  {
   "cell_type": "code",
   "execution_count": 53,
   "id": "1bbc4b12-dac9-4394-a1c6-9538c1708a73",
   "metadata": {},
   "outputs": [],
   "source": [
    "## ~0.7 variantgamma_transmissibility + variantgamma_imports_factor + variantgamma_cross_protection_prob\n",
    "## ~0.5 variable_alpha + variantgamma_transmissibility_factor - GradientBoostingRegressor\n",
    "## ~0.6 variable_alpha + variantgamma_severity_factor - GradientBoostingRegressor"
   ]
  },
  {
   "cell_type": "code",
   "execution_count": 54,
   "id": "bae5b2d5",
   "metadata": {},
   "outputs": [],
   "source": [
    "df_data = df_data_prop[target_variant]"
   ]
  },
  {
   "cell_type": "code",
   "execution_count": 55,
   "id": "7045c2bd-e443-405c-8652-95c369a67f11",
   "metadata": {},
   "outputs": [],
   "source": [
    "n_train = 1900\n",
    "X_train = df_data[:n_train][['dim_0']]\n",
    "y_train = np.array(df_data[:n_train]['y'].tolist())\n",
    "\n",
    "X_test = df_data[n_train:][['dim_0']]\n",
    "y_test = np.array(df_data[n_train:]['y'].tolist())"
   ]
  },
  {
   "cell_type": "code",
   "execution_count": 56,
   "id": "43800248-c62e-4bcd-9b9a-ad7a7e99e0f8",
   "metadata": {},
   "outputs": [
    {
     "data": {
      "text/plain": [
       "Rocket(n_jobs=-1)"
      ]
     },
     "execution_count": 56,
     "metadata": {},
     "output_type": "execute_result"
    }
   ],
   "source": [
    "rocket = Rocket(num_kernels=num_kernels, n_jobs=-1)\n",
    "rocket.fit(X_train, y_train)"
   ]
  },
  {
   "cell_type": "code",
   "execution_count": 57,
   "id": "e8c7ca8e-8ba2-402b-a427-9a644a6cc39b",
   "metadata": {},
   "outputs": [],
   "source": [
    "X_train_transform = rocket.transform(X_train, y_train)\n",
    "X_test_transform = rocket.transform(X_test, y_test)"
   ]
  },
  {
   "cell_type": "markdown",
   "id": "d98a5574-44a5-4b89-8612-1ef632a6217e",
   "metadata": {
    "tags": []
   },
   "source": [
    "# ExtraTreesRegressor"
   ]
  },
  {
   "cell_type": "code",
   "execution_count": 63,
   "id": "1855f870-9006-427e-b0ef-2387cb9d2c6d",
   "metadata": {},
   "outputs": [],
   "source": [
    "from sklearn.ensemble import GradientBoostingRegressor\n",
    "from sklearn.ensemble import RandomForestRegressor\n",
    "from sklearn.ensemble import ExtraTreesRegressor\n",
    "from sklearn.multioutput import MultiOutputRegressor"
   ]
  },
  {
   "cell_type": "code",
   "execution_count": 68,
   "id": "59c2e7db-b245-4679-8b33-c13bf79bc597",
   "metadata": {},
   "outputs": [
    {
     "name": "stdout",
     "output_type": "stream",
     "text": [
      "Mean Squared Error: 0.2815653256961773\n",
      "CPU times: user 344 ms, sys: 568 ms, total: 912 ms\n",
      "Wall time: 33min 37s\n"
     ]
    }
   ],
   "source": [
    "%%time\n",
    "# Define the ML model with MultiOutputRegressor and ExtraTreesRegressor\n",
    "model = MultiOutputRegressor(RandomForestRegressor(random_state=0), n_jobs=-1)\n",
    "\n",
    "model.fit(X_train_transform, y_train)\n",
    "\n",
    "# Predict on the test set using the best model\n",
    "y_pred = model.predict(X_test_transform)\n",
    "\n",
    "# Evaluate the model using mean squared error\n",
    "mse = mean_squared_error(y_test, y_pred)\n",
    "print(\"Mean Squared Error:\", mse)"
   ]
  },
  {
   "cell_type": "code",
   "execution_count": 69,
   "id": "1e550904-6e39-48e7-bc1c-3bed0f7aeab8",
   "metadata": {},
   "outputs": [
    {
     "name": "stdout",
     "output_type": "stream",
     "text": [
      "Score:  0.45237648000150477\n",
      "####################\n",
      "Pred:   [0.58817718 1.49913843 5.82011597 0.82890457 1.19574219]\n",
      "Target: [0.6370954  1.63137207 4.87194824 0.78807069 1.46350098]\n",
      "####################\n",
      "Pred:   [0.57225146 1.45437842 9.31377808 0.82049422 1.28113525]\n",
      "Target: [0.42230536 1.08137207 9.62194824 0.75797397 1.21350098]\n",
      "####################\n",
      "Pred:   [0.50414582 1.28542798 3.82031494 0.9498308  1.24553711]\n",
      "Target: [0.52970038 1.35637207 2.49694824 0.94215048 1.33850098]\n",
      "####################\n",
      "Pred:   [0.70582507 1.79058472 6.52554199 0.78719669 1.28973877]\n",
      "Target: [0.74449042 1.90637207 7.24694824 0.87754645 1.08850098]\n",
      "####################\n",
      "Pred:   [0.64188518 1.64499316 6.25102539 0.87900405 1.23856079]\n",
      "Target: [0.79818793 2.04387207 8.43444824 0.87972291 1.40100098]\n",
      "####################\n",
      "Pred:   [0.66607947 1.70150513 2.63279175 0.95636002 1.25497559]\n",
      "Target: [0.58339789 1.49387207 3.68444824 0.94983387 1.15100098]\n",
      "####################\n",
      "Pred:   [0.46201635 1.18203442 5.89992432 0.95217158 1.24901367]\n",
      "Target: [0.47600287 1.21887207 6.05944824 0.94485247 1.27600098]\n",
      "####################\n",
      "Pred:   [0.69761208 1.80323633 2.21234253 0.95438448 1.29182251]\n",
      "Target: [0.69079291 1.76887207 1.30944824 0.95756816 1.02600098]\n",
      "####################\n",
      "Pred:   [0.56431535 1.44909058 4.52448853 0.92001416 1.230448  ]\n",
      "Target: [0.44915412 1.15012207 3.09069824 0.79844977 1.24475098]\n",
      "####################\n",
      "Pred:   [0.63477131 1.6585498  7.03296631 0.85561108 1.2437439 ]\n",
      "Target: [0.66394416 1.70012207 7.84069824 0.90263662 1.49475098]\n",
      "####################\n",
      "Pred:   [0.72585361 1.8573877  0.89952881 0.87826693 1.19089844]\n",
      "Target: [0.77133918 1.97512207 0.71569824 0.93991643 1.11975098]\n",
      "####################\n",
      "Pred:   [0.6025937  1.52695264 6.20303833 0.89269686 1.23325317]\n",
      "Target: [0.55654914 1.42512207 5.46569824 0.94091772 1.36975098]\n",
      "####################\n",
      "Pred:   [0.58629357 1.51319458 9.26488647 0.93176411 1.25559204]\n",
      "Target: [0.50285163 1.28762207 9.02819824 0.95233075 1.18225098]\n",
      "####################\n",
      "Pred:   [0.61155972 1.61244702 5.55615234 0.88935742 1.26778809]\n",
      "Target: [0.71764167 1.83762207 4.27819824 0.92719511 1.43225098]\n",
      "####################\n",
      "Pred:   [0.7095818  1.82550757 6.61010498 0.9432653  1.16164062]\n",
      "Target: [0.61024665 1.56262207 6.65319824 0.94128971 1.05725098]\n",
      "####################\n",
      "Pred:   [0.46872959 1.20492334 2.59238892 0.96148192 1.24325684]\n",
      "Target: [0.39545661 1.01262207 1.90319824 0.8874367  1.30725098]\n",
      "####################\n",
      "Pred:   [0.61522583 1.62528931 7.6923999  0.877839   1.23995117]\n",
      "Target: [0.70421729 1.80324707 7.54382324 0.91874483 1.10412598]\n",
      "####################\n",
      "Pred:   [0.57113976 1.46097949 3.97719482 0.91480453 1.25370239]\n",
      "Target: [0.48942725 1.25324707 2.79382324 0.99215959 1.35412598]\n",
      "####################\n",
      "Pred:   [0.49269525 1.25523169 9.06737183 0.93111676 1.22974487]\n",
      "Target: [0.59682227 1.52824707 9.91882324 0.99237651 1.22912598]\n",
      "####################\n",
      "Pred:   [0.73768699 1.90354419 5.93118896 0.83343069 1.28097656]\n",
      "Target: [0.81161231 2.07824707 5.16882324 0.8044422  1.47912598]\n",
      "####################\n"
     ]
    }
   ],
   "source": [
    "print('Score: ',model.score(X_test_transform, y_test))\n",
    "print('####################')\n",
    "y_pred = model.predict(X_test_transform)\n",
    "for n in range(20):\n",
    "    print('Pred:  ',y_pred[n])\n",
    "    print('Target:',y_test[n])\n",
    "    print('####################')"
   ]
  },
  {
   "cell_type": "code",
   "execution_count": 65,
   "id": "2c9ba3a1-4c38-45d9-a2b6-bea69b3091ef",
   "metadata": {
    "tags": []
   },
   "outputs": [
    {
     "ename": "KeyboardInterrupt",
     "evalue": "",
     "output_type": "error",
     "traceback": [
      "\u001b[0;31m---------------------------------------------------------------------------\u001b[0m",
      "\u001b[0;31mKeyboardInterrupt\u001b[0m                         Traceback (most recent call last)",
      "File \u001b[0;32m<timed exec>:12\u001b[0m, in \u001b[0;36m<module>\u001b[0;34m\u001b[0m\n",
      "File \u001b[0;32m/usr/anaconda3/envs/sktime_env/lib/python3.9/site-packages/sklearn/model_selection/_search.py:891\u001b[0m, in \u001b[0;36mBaseSearchCV.fit\u001b[0;34m(self, X, y, groups, **fit_params)\u001b[0m\n\u001b[1;32m    885\u001b[0m     results \u001b[38;5;241m=\u001b[39m \u001b[38;5;28mself\u001b[39m\u001b[38;5;241m.\u001b[39m_format_results(\n\u001b[1;32m    886\u001b[0m         all_candidate_params, n_splits, all_out, all_more_results\n\u001b[1;32m    887\u001b[0m     )\n\u001b[1;32m    889\u001b[0m     \u001b[38;5;28;01mreturn\u001b[39;00m results\n\u001b[0;32m--> 891\u001b[0m \u001b[38;5;28;43mself\u001b[39;49m\u001b[38;5;241;43m.\u001b[39;49m\u001b[43m_run_search\u001b[49m\u001b[43m(\u001b[49m\u001b[43mevaluate_candidates\u001b[49m\u001b[43m)\u001b[49m\n\u001b[1;32m    893\u001b[0m \u001b[38;5;66;03m# multimetric is determined here because in the case of a callable\u001b[39;00m\n\u001b[1;32m    894\u001b[0m \u001b[38;5;66;03m# self.scoring the return type is only known after calling\u001b[39;00m\n\u001b[1;32m    895\u001b[0m first_test_score \u001b[38;5;241m=\u001b[39m all_out[\u001b[38;5;241m0\u001b[39m][\u001b[38;5;124m\"\u001b[39m\u001b[38;5;124mtest_scores\u001b[39m\u001b[38;5;124m\"\u001b[39m]\n",
      "File \u001b[0;32m/usr/anaconda3/envs/sktime_env/lib/python3.9/site-packages/sklearn/model_selection/_search.py:1392\u001b[0m, in \u001b[0;36mGridSearchCV._run_search\u001b[0;34m(self, evaluate_candidates)\u001b[0m\n\u001b[1;32m   1390\u001b[0m \u001b[38;5;28;01mdef\u001b[39;00m \u001b[38;5;21m_run_search\u001b[39m(\u001b[38;5;28mself\u001b[39m, evaluate_candidates):\n\u001b[1;32m   1391\u001b[0m     \u001b[38;5;124;03m\"\"\"Search all candidates in param_grid\"\"\"\u001b[39;00m\n\u001b[0;32m-> 1392\u001b[0m     \u001b[43mevaluate_candidates\u001b[49m\u001b[43m(\u001b[49m\u001b[43mParameterGrid\u001b[49m\u001b[43m(\u001b[49m\u001b[38;5;28;43mself\u001b[39;49m\u001b[38;5;241;43m.\u001b[39;49m\u001b[43mparam_grid\u001b[49m\u001b[43m)\u001b[49m\u001b[43m)\u001b[49m\n",
      "File \u001b[0;32m/usr/anaconda3/envs/sktime_env/lib/python3.9/site-packages/sklearn/model_selection/_search.py:838\u001b[0m, in \u001b[0;36mBaseSearchCV.fit.<locals>.evaluate_candidates\u001b[0;34m(candidate_params, cv, more_results)\u001b[0m\n\u001b[1;32m    830\u001b[0m \u001b[38;5;28;01mif\u001b[39;00m \u001b[38;5;28mself\u001b[39m\u001b[38;5;241m.\u001b[39mverbose \u001b[38;5;241m>\u001b[39m \u001b[38;5;241m0\u001b[39m:\n\u001b[1;32m    831\u001b[0m     \u001b[38;5;28mprint\u001b[39m(\n\u001b[1;32m    832\u001b[0m         \u001b[38;5;124m\"\u001b[39m\u001b[38;5;124mFitting \u001b[39m\u001b[38;5;132;01m{0}\u001b[39;00m\u001b[38;5;124m folds for each of \u001b[39m\u001b[38;5;132;01m{1}\u001b[39;00m\u001b[38;5;124m candidates,\u001b[39m\u001b[38;5;124m\"\u001b[39m\n\u001b[1;32m    833\u001b[0m         \u001b[38;5;124m\"\u001b[39m\u001b[38;5;124m totalling \u001b[39m\u001b[38;5;132;01m{2}\u001b[39;00m\u001b[38;5;124m fits\u001b[39m\u001b[38;5;124m\"\u001b[39m\u001b[38;5;241m.\u001b[39mformat(\n\u001b[1;32m    834\u001b[0m             n_splits, n_candidates, n_candidates \u001b[38;5;241m*\u001b[39m n_splits\n\u001b[1;32m    835\u001b[0m         )\n\u001b[1;32m    836\u001b[0m     )\n\u001b[0;32m--> 838\u001b[0m out \u001b[38;5;241m=\u001b[39m \u001b[43mparallel\u001b[49m\u001b[43m(\u001b[49m\n\u001b[1;32m    839\u001b[0m \u001b[43m    \u001b[49m\u001b[43mdelayed\u001b[49m\u001b[43m(\u001b[49m\u001b[43m_fit_and_score\u001b[49m\u001b[43m)\u001b[49m\u001b[43m(\u001b[49m\n\u001b[1;32m    840\u001b[0m \u001b[43m        \u001b[49m\u001b[43mclone\u001b[49m\u001b[43m(\u001b[49m\u001b[43mbase_estimator\u001b[49m\u001b[43m)\u001b[49m\u001b[43m,\u001b[49m\n\u001b[1;32m    841\u001b[0m \u001b[43m        \u001b[49m\u001b[43mX\u001b[49m\u001b[43m,\u001b[49m\n\u001b[1;32m    842\u001b[0m \u001b[43m        \u001b[49m\u001b[43my\u001b[49m\u001b[43m,\u001b[49m\n\u001b[1;32m    843\u001b[0m \u001b[43m        \u001b[49m\u001b[43mtrain\u001b[49m\u001b[38;5;241;43m=\u001b[39;49m\u001b[43mtrain\u001b[49m\u001b[43m,\u001b[49m\n\u001b[1;32m    844\u001b[0m \u001b[43m        \u001b[49m\u001b[43mtest\u001b[49m\u001b[38;5;241;43m=\u001b[39;49m\u001b[43mtest\u001b[49m\u001b[43m,\u001b[49m\n\u001b[1;32m    845\u001b[0m \u001b[43m        \u001b[49m\u001b[43mparameters\u001b[49m\u001b[38;5;241;43m=\u001b[39;49m\u001b[43mparameters\u001b[49m\u001b[43m,\u001b[49m\n\u001b[1;32m    846\u001b[0m \u001b[43m        \u001b[49m\u001b[43msplit_progress\u001b[49m\u001b[38;5;241;43m=\u001b[39;49m\u001b[43m(\u001b[49m\u001b[43msplit_idx\u001b[49m\u001b[43m,\u001b[49m\u001b[43m \u001b[49m\u001b[43mn_splits\u001b[49m\u001b[43m)\u001b[49m\u001b[43m,\u001b[49m\n\u001b[1;32m    847\u001b[0m \u001b[43m        \u001b[49m\u001b[43mcandidate_progress\u001b[49m\u001b[38;5;241;43m=\u001b[39;49m\u001b[43m(\u001b[49m\u001b[43mcand_idx\u001b[49m\u001b[43m,\u001b[49m\u001b[43m \u001b[49m\u001b[43mn_candidates\u001b[49m\u001b[43m)\u001b[49m\u001b[43m,\u001b[49m\n\u001b[1;32m    848\u001b[0m \u001b[43m        \u001b[49m\u001b[38;5;241;43m*\u001b[39;49m\u001b[38;5;241;43m*\u001b[39;49m\u001b[43mfit_and_score_kwargs\u001b[49m\u001b[43m,\u001b[49m\n\u001b[1;32m    849\u001b[0m \u001b[43m    \u001b[49m\u001b[43m)\u001b[49m\n\u001b[1;32m    850\u001b[0m \u001b[43m    \u001b[49m\u001b[38;5;28;43;01mfor\u001b[39;49;00m\u001b[43m \u001b[49m\u001b[43m(\u001b[49m\u001b[43mcand_idx\u001b[49m\u001b[43m,\u001b[49m\u001b[43m \u001b[49m\u001b[43mparameters\u001b[49m\u001b[43m)\u001b[49m\u001b[43m,\u001b[49m\u001b[43m \u001b[49m\u001b[43m(\u001b[49m\u001b[43msplit_idx\u001b[49m\u001b[43m,\u001b[49m\u001b[43m \u001b[49m\u001b[43m(\u001b[49m\u001b[43mtrain\u001b[49m\u001b[43m,\u001b[49m\u001b[43m \u001b[49m\u001b[43mtest\u001b[49m\u001b[43m)\u001b[49m\u001b[43m)\u001b[49m\u001b[43m \u001b[49m\u001b[38;5;129;43;01min\u001b[39;49;00m\u001b[43m \u001b[49m\u001b[43mproduct\u001b[49m\u001b[43m(\u001b[49m\n\u001b[1;32m    851\u001b[0m \u001b[43m        \u001b[49m\u001b[38;5;28;43menumerate\u001b[39;49m\u001b[43m(\u001b[49m\u001b[43mcandidate_params\u001b[49m\u001b[43m)\u001b[49m\u001b[43m,\u001b[49m\u001b[43m \u001b[49m\u001b[38;5;28;43menumerate\u001b[39;49m\u001b[43m(\u001b[49m\u001b[43mcv\u001b[49m\u001b[38;5;241;43m.\u001b[39;49m\u001b[43msplit\u001b[49m\u001b[43m(\u001b[49m\u001b[43mX\u001b[49m\u001b[43m,\u001b[49m\u001b[43m \u001b[49m\u001b[43my\u001b[49m\u001b[43m,\u001b[49m\u001b[43m \u001b[49m\u001b[43mgroups\u001b[49m\u001b[43m)\u001b[49m\u001b[43m)\u001b[49m\n\u001b[1;32m    852\u001b[0m \u001b[43m    \u001b[49m\u001b[43m)\u001b[49m\n\u001b[1;32m    853\u001b[0m \u001b[43m\u001b[49m\u001b[43m)\u001b[49m\n\u001b[1;32m    855\u001b[0m \u001b[38;5;28;01mif\u001b[39;00m \u001b[38;5;28mlen\u001b[39m(out) \u001b[38;5;241m<\u001b[39m \u001b[38;5;241m1\u001b[39m:\n\u001b[1;32m    856\u001b[0m     \u001b[38;5;28;01mraise\u001b[39;00m \u001b[38;5;167;01mValueError\u001b[39;00m(\n\u001b[1;32m    857\u001b[0m         \u001b[38;5;124m\"\u001b[39m\u001b[38;5;124mNo fits were performed. \u001b[39m\u001b[38;5;124m\"\u001b[39m\n\u001b[1;32m    858\u001b[0m         \u001b[38;5;124m\"\u001b[39m\u001b[38;5;124mWas the CV iterator empty? \u001b[39m\u001b[38;5;124m\"\u001b[39m\n\u001b[1;32m    859\u001b[0m         \u001b[38;5;124m\"\u001b[39m\u001b[38;5;124mWere there no candidates?\u001b[39m\u001b[38;5;124m\"\u001b[39m\n\u001b[1;32m    860\u001b[0m     )\n",
      "File \u001b[0;32m/usr/anaconda3/envs/sktime_env/lib/python3.9/site-packages/joblib/parallel.py:1056\u001b[0m, in \u001b[0;36mParallel.__call__\u001b[0;34m(self, iterable)\u001b[0m\n\u001b[1;32m   1053\u001b[0m     \u001b[38;5;28mself\u001b[39m\u001b[38;5;241m.\u001b[39m_iterating \u001b[38;5;241m=\u001b[39m \u001b[38;5;28;01mFalse\u001b[39;00m\n\u001b[1;32m   1055\u001b[0m \u001b[38;5;28;01mwith\u001b[39;00m \u001b[38;5;28mself\u001b[39m\u001b[38;5;241m.\u001b[39m_backend\u001b[38;5;241m.\u001b[39mretrieval_context():\n\u001b[0;32m-> 1056\u001b[0m     \u001b[38;5;28;43mself\u001b[39;49m\u001b[38;5;241;43m.\u001b[39;49m\u001b[43mretrieve\u001b[49m\u001b[43m(\u001b[49m\u001b[43m)\u001b[49m\n\u001b[1;32m   1057\u001b[0m \u001b[38;5;66;03m# Make sure that we get a last message telling us we are done\u001b[39;00m\n\u001b[1;32m   1058\u001b[0m elapsed_time \u001b[38;5;241m=\u001b[39m time\u001b[38;5;241m.\u001b[39mtime() \u001b[38;5;241m-\u001b[39m \u001b[38;5;28mself\u001b[39m\u001b[38;5;241m.\u001b[39m_start_time\n",
      "File \u001b[0;32m/usr/anaconda3/envs/sktime_env/lib/python3.9/site-packages/joblib/parallel.py:935\u001b[0m, in \u001b[0;36mParallel.retrieve\u001b[0;34m(self)\u001b[0m\n\u001b[1;32m    933\u001b[0m \u001b[38;5;28;01mtry\u001b[39;00m:\n\u001b[1;32m    934\u001b[0m     \u001b[38;5;28;01mif\u001b[39;00m \u001b[38;5;28mgetattr\u001b[39m(\u001b[38;5;28mself\u001b[39m\u001b[38;5;241m.\u001b[39m_backend, \u001b[38;5;124m'\u001b[39m\u001b[38;5;124msupports_timeout\u001b[39m\u001b[38;5;124m'\u001b[39m, \u001b[38;5;28;01mFalse\u001b[39;00m):\n\u001b[0;32m--> 935\u001b[0m         \u001b[38;5;28mself\u001b[39m\u001b[38;5;241m.\u001b[39m_output\u001b[38;5;241m.\u001b[39mextend(\u001b[43mjob\u001b[49m\u001b[38;5;241;43m.\u001b[39;49m\u001b[43mget\u001b[49m\u001b[43m(\u001b[49m\u001b[43mtimeout\u001b[49m\u001b[38;5;241;43m=\u001b[39;49m\u001b[38;5;28;43mself\u001b[39;49m\u001b[38;5;241;43m.\u001b[39;49m\u001b[43mtimeout\u001b[49m\u001b[43m)\u001b[49m)\n\u001b[1;32m    936\u001b[0m     \u001b[38;5;28;01melse\u001b[39;00m:\n\u001b[1;32m    937\u001b[0m         \u001b[38;5;28mself\u001b[39m\u001b[38;5;241m.\u001b[39m_output\u001b[38;5;241m.\u001b[39mextend(job\u001b[38;5;241m.\u001b[39mget())\n",
      "File \u001b[0;32m/usr/anaconda3/envs/sktime_env/lib/python3.9/site-packages/joblib/_parallel_backends.py:542\u001b[0m, in \u001b[0;36mLokyBackend.wrap_future_result\u001b[0;34m(future, timeout)\u001b[0m\n\u001b[1;32m    539\u001b[0m \u001b[38;5;124;03m\"\"\"Wrapper for Future.result to implement the same behaviour as\u001b[39;00m\n\u001b[1;32m    540\u001b[0m \u001b[38;5;124;03mAsyncResults.get from multiprocessing.\"\"\"\u001b[39;00m\n\u001b[1;32m    541\u001b[0m \u001b[38;5;28;01mtry\u001b[39;00m:\n\u001b[0;32m--> 542\u001b[0m     \u001b[38;5;28;01mreturn\u001b[39;00m \u001b[43mfuture\u001b[49m\u001b[38;5;241;43m.\u001b[39;49m\u001b[43mresult\u001b[49m\u001b[43m(\u001b[49m\u001b[43mtimeout\u001b[49m\u001b[38;5;241;43m=\u001b[39;49m\u001b[43mtimeout\u001b[49m\u001b[43m)\u001b[49m\n\u001b[1;32m    543\u001b[0m \u001b[38;5;28;01mexcept\u001b[39;00m CfTimeoutError \u001b[38;5;28;01mas\u001b[39;00m e:\n\u001b[1;32m    544\u001b[0m     \u001b[38;5;28;01mraise\u001b[39;00m \u001b[38;5;167;01mTimeoutError\u001b[39;00m \u001b[38;5;28;01mfrom\u001b[39;00m \u001b[38;5;21;01me\u001b[39;00m\n",
      "File \u001b[0;32m/usr/anaconda3/envs/sktime_env/lib/python3.9/concurrent/futures/_base.py:441\u001b[0m, in \u001b[0;36mFuture.result\u001b[0;34m(self, timeout)\u001b[0m\n\u001b[1;32m    438\u001b[0m \u001b[38;5;28;01melif\u001b[39;00m \u001b[38;5;28mself\u001b[39m\u001b[38;5;241m.\u001b[39m_state \u001b[38;5;241m==\u001b[39m FINISHED:\n\u001b[1;32m    439\u001b[0m     \u001b[38;5;28;01mreturn\u001b[39;00m \u001b[38;5;28mself\u001b[39m\u001b[38;5;241m.\u001b[39m__get_result()\n\u001b[0;32m--> 441\u001b[0m \u001b[38;5;28;43mself\u001b[39;49m\u001b[38;5;241;43m.\u001b[39;49m\u001b[43m_condition\u001b[49m\u001b[38;5;241;43m.\u001b[39;49m\u001b[43mwait\u001b[49m\u001b[43m(\u001b[49m\u001b[43mtimeout\u001b[49m\u001b[43m)\u001b[49m\n\u001b[1;32m    443\u001b[0m \u001b[38;5;28;01mif\u001b[39;00m \u001b[38;5;28mself\u001b[39m\u001b[38;5;241m.\u001b[39m_state \u001b[38;5;129;01min\u001b[39;00m [CANCELLED, CANCELLED_AND_NOTIFIED]:\n\u001b[1;32m    444\u001b[0m     \u001b[38;5;28;01mraise\u001b[39;00m CancelledError()\n",
      "File \u001b[0;32m/usr/anaconda3/envs/sktime_env/lib/python3.9/threading.py:312\u001b[0m, in \u001b[0;36mCondition.wait\u001b[0;34m(self, timeout)\u001b[0m\n\u001b[1;32m    310\u001b[0m \u001b[38;5;28;01mtry\u001b[39;00m:    \u001b[38;5;66;03m# restore state no matter what (e.g., KeyboardInterrupt)\u001b[39;00m\n\u001b[1;32m    311\u001b[0m     \u001b[38;5;28;01mif\u001b[39;00m timeout \u001b[38;5;129;01mis\u001b[39;00m \u001b[38;5;28;01mNone\u001b[39;00m:\n\u001b[0;32m--> 312\u001b[0m         \u001b[43mwaiter\u001b[49m\u001b[38;5;241;43m.\u001b[39;49m\u001b[43macquire\u001b[49m\u001b[43m(\u001b[49m\u001b[43m)\u001b[49m\n\u001b[1;32m    313\u001b[0m         gotit \u001b[38;5;241m=\u001b[39m \u001b[38;5;28;01mTrue\u001b[39;00m\n\u001b[1;32m    314\u001b[0m     \u001b[38;5;28;01melse\u001b[39;00m:\n",
      "\u001b[0;31mKeyboardInterrupt\u001b[0m: "
     ]
    }
   ],
   "source": [
    "%%time\n",
    "# Define the ML model with MultiOutputRegressor and ExtraTreesRegressor\n",
    "model = MultiOutputRegressor(ExtraTreesRegressor(random_state=0), n_jobs=-1)\n",
    "\n",
    "# Define the hyperparameters grid for tuning\n",
    "param_grid = {\n",
    "    \"estimator__n_estimators\": [300],\n",
    "    \"estimator__max_depth\": [15],\n",
    "}\n",
    "\n",
    "# Perform grid search for hyperparameter tuning\n",
    "grid_search = GridSearchCV(model, param_grid, n_jobs=-1)\n",
    "grid_search.fit(X_train_transform, y_train)\n",
    "\n",
    "# Get the best model and its hyperparameters\n",
    "best_model = grid_search.best_estimator_\n",
    "best_params = grid_search.best_params_\n",
    "\n",
    "# Predict on the test set using the best model\n",
    "y_pred = best_model.predict(X_test_transform)\n",
    "\n",
    "# Evaluate the model using mean squared error\n",
    "mse = mean_squared_error(y_test, y_pred)\n",
    "print(\"Mean Squared Error:\", mse)\n",
    "print(\"Best Hyperparameters:\", best_params)"
   ]
  },
  {
   "cell_type": "code",
   "execution_count": 66,
   "id": "ec4840d4-65fe-4c7d-bb41-bcc3f24b2330",
   "metadata": {
    "tags": []
   },
   "outputs": [
    {
     "name": "stdout",
     "output_type": "stream",
     "text": [
      "Score:  0.38799216256813496\n",
      "####################\n",
      "Pred:   [0.63551303 1.62452057 5.18472913 0.91506165 1.14763224]\n",
      "Target: [0.6370954  1.63137207 4.87194824 0.78807069 1.46350098]\n",
      "####################\n",
      "Pred:   [0.52098488 1.334238   9.68792463 0.85784709 1.22603772]\n",
      "Target: [0.42230536 1.08137207 9.62194824 0.75797397 1.21350098]\n",
      "####################\n",
      "Pred:   [0.56114678 1.4411608  2.64117828 0.91599778 1.26608042]\n",
      "Target: [0.52970038 1.35637207 2.49694824 0.94215048 1.33850098]\n",
      "####################\n",
      "Pred:   [0.69268629 1.77424942 6.52689878 0.7194257  1.28423508]\n",
      "Target: [0.74449042 1.90637207 7.24694824 0.87754645 1.08850098]\n",
      "####################\n",
      "Pred:   [0.63669389 1.63063589 6.99225436 0.84342272 1.27297002]\n",
      "Target: [0.79818793 2.04387207 8.43444824 0.87972291 1.40100098]\n",
      "####################\n",
      "Pred:   [0.65375689 1.67372512 3.99266853 0.95113289 1.26324566]\n",
      "Target: [0.58339789 1.49387207 3.68444824 0.94983387 1.15100098]\n",
      "####################\n",
      "Pred:   [0.45887914 1.17427996 6.13316159 0.9191061  1.25364973]\n",
      "Target: [0.47600287 1.21887207 6.05944824 0.94485247 1.27600098]\n",
      "####################\n",
      "Pred:   [0.71036012 1.81990605 2.76435152 1.01479559 1.29895617]\n",
      "Target: [0.69079291 1.76887207 1.30944824 0.95756816 1.02600098]\n",
      "####################\n",
      "Pred:   [0.53991163 1.38240965 3.0874974  0.9422796  1.17323487]\n",
      "Target: [0.44915412 1.15012207 3.09069824 0.79844977 1.24475098]\n",
      "####################\n",
      "Pred:   [0.65101642 1.67441367 6.08202432 0.88368842 1.26170958]\n",
      "Target: [0.66394416 1.70012207 7.84069824 0.90263662 1.49475098]\n",
      "####################\n",
      "Pred:   [0.74133948 1.89786811 1.13371407 0.86044079 1.18884106]\n",
      "Target: [0.77133918 1.97512207 0.71569824 0.93991643 1.11975098]\n",
      "####################\n",
      "Pred:   [0.60677587 1.55530899 5.26354226 0.89714551 1.28255081]\n",
      "Target: [0.55654914 1.42512207 5.46569824 0.94091772 1.36975098]\n",
      "####################\n",
      "Pred:   [0.53646148 1.37420768 9.16389342 0.94214934 1.27701693]\n",
      "Target: [0.50285163 1.28762207 9.02819824 0.95233075 1.18225098]\n",
      "####################\n",
      "Pred:   [0.66415398 1.6984481  4.37305343 0.88496642 1.31763777]\n",
      "Target: [0.71764167 1.83762207 4.27819824 0.92719511 1.43225098]\n",
      "####################\n",
      "Pred:   [0.70876497 1.81498129 6.99945146 0.9425168  1.17283581]\n",
      "Target: [0.61024665 1.56262207 6.65319824 0.94128971 1.05725098]\n",
      "####################\n",
      "Pred:   [0.46757879 1.19803517 3.00841768 0.96857687 1.21755205]\n",
      "Target: [0.39545661 1.01262207 1.90319824 0.8874367  1.30725098]\n",
      "####################\n",
      "Pred:   [0.66665604 1.71041399 7.07379575 0.85763562 1.25254056]\n",
      "Target: [0.70421729 1.80324707 7.54382324 0.91874483 1.10412598]\n",
      "####################\n",
      "Pred:   [0.58274763 1.49235979 3.84921747 0.88393735 1.18839269]\n",
      "Target: [0.48942725 1.25324707 2.79382324 0.99215959 1.35412598]\n",
      "####################\n",
      "Pred:   [0.45899882 1.17948645 9.13782536 0.93832653 1.19421398]\n",
      "Target: [0.59682227 1.52824707 9.91882324 0.99237651 1.22912598]\n",
      "####################\n",
      "Pred:   [0.74112487 1.89662359 5.92705298 0.83965834 1.24281367]\n",
      "Target: [0.81161231 2.07824707 5.16882324 0.8044422  1.47912598]\n",
      "####################\n"
     ]
    }
   ],
   "source": [
    "print('Score: ',best_model.score(X_test_transform, y_test))\n",
    "print('####################')\n",
    "y_pred = best_model.predict(X_test_transform)\n",
    "for n in range(20):\n",
    "    print('Pred:  ',y_pred[n])\n",
    "    print('Target:',y_test[n])\n",
    "    print('####################')"
   ]
  },
  {
   "cell_type": "markdown",
   "id": "7c532be7-81c5-461a-abef-138f02cc923b",
   "metadata": {},
   "source": [
    "# Regressor chain"
   ]
  },
  {
   "cell_type": "code",
   "execution_count": 47,
   "id": "a8e7d16f-a943-423c-9967-a73e5733cd50",
   "metadata": {},
   "outputs": [],
   "source": [
    "# from sklearn import linear_model\n",
    "# reg = linear_model.LassoLars(alpha=0.000001, normalize=True)\n",
    "\n",
    "# classifier = RegressorChain(reg)\n",
    "# classifier.fit(X_train_transform, y_train)\n",
    "\n",
    "# # ~0.6 - 3 parameters\n",
    "\n",
    "# # from sklearn import linear_model\n",
    "# # reg = linear_model.LassoLarsIC(criterion='bic', normalize=True)\n",
    "\n",
    "# # from sklearn.linear_model import LassoLarsCV\n",
    "# # reg = LassoLarsCV(cv=3, normalize=True)\n",
    "\n",
    "# # from sklearn.linear_model import ElasticNet\n",
    "# # reg = ElasticNet(alpha=0.1, l1_ratio=0.1, normalize=False, random_state=0)\n",
    "\n",
    "# # from sklearn import linear_model\n",
    "# # reg = linear_model.TweedieRegressor(alpha=0.1, max_iter=1500, link='identity')\n",
    "# # # 0.37 - 4 parameters alpha=0.1, max_iter=1500, link='identity'\n",
    "\n",
    "# # from sklearn.linear_model import RANSACRegressor\n",
    "# # reg = RANSACRegressor(random_state=0, min_samples=0.99)\n",
    "\n",
    "# # scaler = preprocessing.StandardScaler().fit(X_train_twe)\n",
    "# # X_train_scaled = scaler.transform(X_train_twe)"
   ]
  },
  {
   "cell_type": "code",
   "execution_count": 61,
   "id": "ab69c018-a8be-4b5b-9be1-84d1b0023120",
   "metadata": {},
   "outputs": [
    {
     "ename": "TypeError",
     "evalue": "__init__() got an unexpected keyword argument 'cv'",
     "output_type": "error",
     "traceback": [
      "\u001b[0;31m---------------------------------------------------------------------------\u001b[0m",
      "\u001b[0;31mTypeError\u001b[0m                                 Traceback (most recent call last)",
      "Input \u001b[0;32mIn [61]\u001b[0m, in \u001b[0;36m<cell line: 7>\u001b[0;34m()\u001b[0m\n\u001b[1;32m      4\u001b[0m X_test_transform \u001b[38;5;241m=\u001b[39m scaler\u001b[38;5;241m.\u001b[39mtransform(X_test_transform)\n\u001b[1;32m      6\u001b[0m \u001b[38;5;66;03m# Create the ElasticNet regressor\u001b[39;00m\n\u001b[0;32m----> 7\u001b[0m regressor \u001b[38;5;241m=\u001b[39m \u001b[43mLassoLars\u001b[49m\u001b[43m(\u001b[49m\u001b[43mnormalize\u001b[49m\u001b[38;5;241;43m=\u001b[39;49m\u001b[38;5;28;43;01mFalse\u001b[39;49;00m\u001b[43m,\u001b[49m\u001b[43m \u001b[49m\u001b[43mcv\u001b[49m\u001b[38;5;241;43m=\u001b[39;49m\u001b[38;5;241;43m3\u001b[39;49m\u001b[43m)\u001b[49m\n\u001b[1;32m      9\u001b[0m \u001b[38;5;66;03m# Define the parameter grid for grid search\u001b[39;00m\n\u001b[1;32m     10\u001b[0m param_grid \u001b[38;5;241m=\u001b[39m {\n\u001b[1;32m     11\u001b[0m     \u001b[38;5;124m'\u001b[39m\u001b[38;5;124malpha\u001b[39m\u001b[38;5;124m'\u001b[39m: [\u001b[38;5;241m0.0001\u001b[39m, \u001b[38;5;241m0.001\u001b[39m, \u001b[38;5;241m0.01\u001b[39m],\n\u001b[1;32m     12\u001b[0m }\n",
      "\u001b[0;31mTypeError\u001b[0m: __init__() got an unexpected keyword argument 'cv'"
     ]
    }
   ],
   "source": [
    "# Standardize the transformed features\n",
    "scaler = StandardScaler()\n",
    "X_train_transform = scaler.fit_transform(X_train_transform)\n",
    "X_test_transform = scaler.transform(X_test_transform)\n",
    "\n",
    "# Create the ElasticNet regressor\n",
    "regressor = LassoLars(normalize=False)\n",
    "\n",
    "# Define the parameter grid for grid search\n",
    "param_grid = {\n",
    "    'alpha': [0.0001, 0.001, 0.01],\n",
    "}\n",
    "\n",
    "# Perform grid search\n",
    "grid_search = GridSearchCV(regressor, param_grid)\n",
    "grid_search.fit(X_train_transform, y_train)\n",
    "\n",
    "# Print the best hyperparameters and the corresponding score\n",
    "print(\"Best Hyperparameters:\", grid_search.best_params_)\n",
    "print(\"Best Score:\", grid_search.best_score_)"
   ]
  },
  {
   "cell_type": "code",
   "execution_count": 59,
   "id": "8c40734e-a9dc-4486-a678-18380ca88ffd",
   "metadata": {},
   "outputs": [],
   "source": [
    "# Get the best model and its hyperparameters\n",
    "best_model = grid_search.best_estimator_\n",
    "best_params = grid_search.best_params_"
   ]
  },
  {
   "cell_type": "code",
   "execution_count": 62,
   "id": "84d8f7d4-01c8-450e-94b3-52150007a1f3",
   "metadata": {},
   "outputs": [
    {
     "name": "stdout",
     "output_type": "stream",
     "text": [
      "Score:  0.38799216256813496\n",
      "Pred:   [0.63551303 1.62452057 5.18472913 0.91506165 1.14763224]\n",
      "Target: [0.6370954  1.63137207 4.87194824 0.78807069 1.46350098]\n",
      "####################\n",
      "Pred:   [0.52098488 1.334238   9.68792463 0.85784709 1.22603772]\n",
      "Target: [0.42230536 1.08137207 9.62194824 0.75797397 1.21350098]\n",
      "####################\n",
      "Pred:   [0.56114678 1.4411608  2.64117828 0.91599778 1.26608042]\n",
      "Target: [0.52970038 1.35637207 2.49694824 0.94215048 1.33850098]\n",
      "####################\n",
      "Pred:   [0.69268629 1.77424942 6.52689878 0.7194257  1.28423508]\n",
      "Target: [0.74449042 1.90637207 7.24694824 0.87754645 1.08850098]\n",
      "####################\n",
      "Pred:   [0.63669389 1.63063589 6.99225436 0.84342272 1.27297002]\n",
      "Target: [0.79818793 2.04387207 8.43444824 0.87972291 1.40100098]\n",
      "####################\n",
      "Pred:   [0.65375689 1.67372512 3.99266853 0.95113289 1.26324566]\n",
      "Target: [0.58339789 1.49387207 3.68444824 0.94983387 1.15100098]\n",
      "####################\n",
      "Pred:   [0.45887914 1.17427996 6.13316159 0.9191061  1.25364973]\n",
      "Target: [0.47600287 1.21887207 6.05944824 0.94485247 1.27600098]\n",
      "####################\n",
      "Pred:   [0.71036012 1.81990605 2.76435152 1.01479559 1.29895617]\n",
      "Target: [0.69079291 1.76887207 1.30944824 0.95756816 1.02600098]\n",
      "####################\n",
      "Pred:   [0.53991163 1.38240965 3.0874974  0.9422796  1.17323487]\n",
      "Target: [0.44915412 1.15012207 3.09069824 0.79844977 1.24475098]\n",
      "####################\n",
      "Pred:   [0.65101642 1.67441367 6.08202432 0.88368842 1.26170958]\n",
      "Target: [0.66394416 1.70012207 7.84069824 0.90263662 1.49475098]\n",
      "####################\n"
     ]
    }
   ],
   "source": [
    "# Predict on the test set using the best model\n",
    "print('Score: ',best_model.score(X_test_transform, y_test))\n",
    "\n",
    "y_pred = best_model.predict(X_test_transform)\n",
    "for n in range(10):\n",
    "    print('Pred:  ',y_pred[n])\n",
    "    print('Target:',y_test[n])\n",
    "    print('####################')"
   ]
  },
  {
   "cell_type": "code",
   "execution_count": null,
   "id": "e7cf09b3-a5d1-48fc-8552-ff66e1ea2658",
   "metadata": {},
   "outputs": [],
   "source": []
  }
 ],
 "metadata": {
  "kernelspec": {
   "display_name": "sktime_env",
   "language": "python",
   "name": "sktime_env"
  },
  "language_info": {
   "codemirror_mode": {
    "name": "ipython",
    "version": 3
   },
   "file_extension": ".py",
   "mimetype": "text/x-python",
   "name": "python",
   "nbconvert_exporter": "python",
   "pygments_lexer": "ipython3",
   "version": "3.9.12"
  },
  "vscode": {
   "interpreter": {
    "hash": "e54c91135946856665240a40f6e0527d4b65eebff412be21eef191e78ae5bc6c"
   }
  }
 },
 "nbformat": 4,
 "nbformat_minor": 5
}
