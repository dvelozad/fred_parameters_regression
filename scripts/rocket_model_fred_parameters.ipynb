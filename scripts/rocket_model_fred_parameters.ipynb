{
 "cells": [
  {
   "cell_type": "code",
   "execution_count": 30,
   "id": "467f5647-706f-43aa-b96c-fecdbcf3bf12",
   "metadata": {},
   "outputs": [],
   "source": [
    "import numpy as np\n",
    "import pandas as pd\n",
    "import matplotlib.pyplot as plt \n",
    "\n",
    "from sklearn.model_selection import train_test_split, GridSearchCV\n",
    "from sklearn.metrics import mean_squared_error\n",
    "from sklearn.multioutput import RegressorChain\n",
    "from sktime.transformations.panel.rocket import Rocket"
   ]
  },
  {
   "cell_type": "code",
   "execution_count": 8,
   "id": "f24b563a",
   "metadata": {},
   "outputs": [],
   "source": [
    "from variable_assignation import *\n",
    "from load_functions import *"
   ]
  },
  {
   "attachments": {},
   "cell_type": "markdown",
   "id": "b0a0e803",
   "metadata": {},
   "source": [
    "# Variables"
   ]
  },
  {
   "cell_type": "code",
   "execution_count": 25,
   "id": "e794c142",
   "metadata": {},
   "outputs": [],
   "source": [
    "target_variant = 'delta'\n",
    "num_kernels = 50000"
   ]
  },
  {
   "attachments": {},
   "cell_type": "markdown",
   "id": "4c070188",
   "metadata": {},
   "source": [
    "# Load data"
   ]
  },
  {
   "cell_type": "code",
   "execution_count": 14,
   "id": "8e7c1486",
   "metadata": {},
   "outputs": [],
   "source": [
    "df_data_death, df_data_prop = {}, {}\n",
    "for variant in ['alpha', 'gamma', 'kappa', 'delta']:\n",
    "    input_files_folder = f'../input_files/{variant}'\n",
    "    df_data_death[variant] = load_obj(f'{input_files_folder}/df_prop_deaths_{variant}')\n",
    "    df_data_prop[variant] = load_obj(f'{input_files_folder}/df_prop_{variant}')\n",
    "\n",
    "all_variables = []\n",
    "for var_list in variables_vars.values():\n",
    "    all_variables += var_list"
   ]
  },
  {
   "cell_type": "code",
   "execution_count": 19,
   "id": "eb6ef5ab",
   "metadata": {},
   "outputs": [
    {
     "data": {
      "text/plain": [
       "['variantalpha_transmissibility',\n",
       " 'variantalpha_transmissibility_factor',\n",
       " 'variantalpha_imports_factor',\n",
       " 'variantalpha_cross_protection_prob',\n",
       " 'variantgamma_transmissibility',\n",
       " 'variantgamma_transmissibility_factor',\n",
       " 'variantgamma_imports_factor',\n",
       " 'variantgamma_cross_protection_prob',\n",
       " 'variantgamma_severity_factor',\n",
       " 'variantkappa_transmissibility',\n",
       " 'variantkappa_transmissibility_factor',\n",
       " 'variantkappa_cross_protection_prob',\n",
       " 'variantkappa_introduction_day',\n",
       " 'variantkappa_severity_factor',\n",
       " 'variantdelta_transmissibility',\n",
       " 'variantdelta_transmissibility_factor',\n",
       " 'variantdelta_imports_factor',\n",
       " 'variantdelta_cross_protection_prob',\n",
       " 'variantdelta_severity_factor']"
      ]
     },
     "execution_count": 19,
     "metadata": {},
     "output_type": "execute_result"
    }
   ],
   "source": [
    "all_variables"
   ]
  },
  {
   "cell_type": "code",
   "execution_count": 20,
   "id": "fe90b9aa",
   "metadata": {},
   "outputs": [
    {
     "data": {
      "text/plain": [
       "array([17, 18])"
      ]
     },
     "execution_count": 20,
     "metadata": {},
     "output_type": "execute_result"
    }
   ],
   "source": [
    "np.where(np.isin(all_variables, ['variantdelta_cross_protection_prob', 'variantdelta_severity_factor']))[0]"
   ]
  },
  {
   "cell_type": "code",
   "execution_count": 3,
   "id": "1bbc4b12-dac9-4394-a1c6-9538c1708a73",
   "metadata": {},
   "outputs": [],
   "source": [
    "## ~0.7 variantgamma_transmissibility + variantgamma_imports_factor + variantgamma_cross_protection_prob\n",
    "## ~0.5 variable_alpha + variantgamma_transmissibility_factor - GradientBoostingRegressor\n",
    "## ~0.6 variable_alpha + variantgamma_severity_factor - GradientBoostingRegressor"
   ]
  },
  {
   "cell_type": "code",
   "execution_count": 22,
   "id": "bae5b2d5",
   "metadata": {},
   "outputs": [],
   "source": [
    "df_data = df_data_prop[target_variant]"
   ]
  },
  {
   "cell_type": "code",
   "execution_count": 23,
   "id": "7045c2bd-e443-405c-8652-95c369a67f11",
   "metadata": {},
   "outputs": [],
   "source": [
    "n_train = 1900\n",
    "X_train = df_data[:n_train][['dim_0']]\n",
    "y_train = np.array(df_data[:n_train]['y'].tolist())\n",
    "\n",
    "X_test = df_data[n_train:][['dim_0']]\n",
    "y_test = np.array(df_data[n_train:]['y'].tolist())"
   ]
  },
  {
   "cell_type": "code",
   "execution_count": 26,
   "id": "43800248-c62e-4bcd-9b9a-ad7a7e99e0f8",
   "metadata": {},
   "outputs": [
    {
     "data": {
      "text/html": [
       "<style>#sk-502ffc84-0823-407d-81e4-90797de0074a {color: black;background-color: white;}#sk-502ffc84-0823-407d-81e4-90797de0074a pre{padding: 0;}#sk-502ffc84-0823-407d-81e4-90797de0074a div.sk-toggleable {background-color: white;}#sk-502ffc84-0823-407d-81e4-90797de0074a label.sk-toggleable__label {cursor: pointer;display: block;width: 100%;margin-bottom: 0;padding: 0.3em;box-sizing: border-box;text-align: center;}#sk-502ffc84-0823-407d-81e4-90797de0074a label.sk-toggleable__label-arrow:before {content: \"▸\";float: left;margin-right: 0.25em;color: #696969;}#sk-502ffc84-0823-407d-81e4-90797de0074a label.sk-toggleable__label-arrow:hover:before {color: black;}#sk-502ffc84-0823-407d-81e4-90797de0074a div.sk-estimator:hover label.sk-toggleable__label-arrow:before {color: black;}#sk-502ffc84-0823-407d-81e4-90797de0074a div.sk-toggleable__content {max-height: 0;max-width: 0;overflow: hidden;text-align: left;background-color: #f0f8ff;}#sk-502ffc84-0823-407d-81e4-90797de0074a div.sk-toggleable__content pre {margin: 0.2em;color: black;border-radius: 0.25em;background-color: #f0f8ff;}#sk-502ffc84-0823-407d-81e4-90797de0074a input.sk-toggleable__control:checked~div.sk-toggleable__content {max-height: 200px;max-width: 100%;overflow: auto;}#sk-502ffc84-0823-407d-81e4-90797de0074a input.sk-toggleable__control:checked~label.sk-toggleable__label-arrow:before {content: \"▾\";}#sk-502ffc84-0823-407d-81e4-90797de0074a div.sk-estimator input.sk-toggleable__control:checked~label.sk-toggleable__label {background-color: #d4ebff;}#sk-502ffc84-0823-407d-81e4-90797de0074a div.sk-label input.sk-toggleable__control:checked~label.sk-toggleable__label {background-color: #d4ebff;}#sk-502ffc84-0823-407d-81e4-90797de0074a input.sk-hidden--visually {border: 0;clip: rect(1px 1px 1px 1px);clip: rect(1px, 1px, 1px, 1px);height: 1px;margin: -1px;overflow: hidden;padding: 0;position: absolute;width: 1px;}#sk-502ffc84-0823-407d-81e4-90797de0074a div.sk-estimator {font-family: monospace;background-color: #f0f8ff;border: 1px dotted black;border-radius: 0.25em;box-sizing: border-box;margin-bottom: 0.5em;}#sk-502ffc84-0823-407d-81e4-90797de0074a div.sk-estimator:hover {background-color: #d4ebff;}#sk-502ffc84-0823-407d-81e4-90797de0074a div.sk-parallel-item::after {content: \"\";width: 100%;border-bottom: 1px solid gray;flex-grow: 1;}#sk-502ffc84-0823-407d-81e4-90797de0074a div.sk-label:hover label.sk-toggleable__label {background-color: #d4ebff;}#sk-502ffc84-0823-407d-81e4-90797de0074a div.sk-serial::before {content: \"\";position: absolute;border-left: 1px solid gray;box-sizing: border-box;top: 2em;bottom: 0;left: 50%;}#sk-502ffc84-0823-407d-81e4-90797de0074a div.sk-serial {display: flex;flex-direction: column;align-items: center;background-color: white;padding-right: 0.2em;padding-left: 0.2em;}#sk-502ffc84-0823-407d-81e4-90797de0074a div.sk-item {z-index: 1;}#sk-502ffc84-0823-407d-81e4-90797de0074a div.sk-parallel {display: flex;align-items: stretch;justify-content: center;background-color: white;}#sk-502ffc84-0823-407d-81e4-90797de0074a div.sk-parallel::before {content: \"\";position: absolute;border-left: 1px solid gray;box-sizing: border-box;top: 2em;bottom: 0;left: 50%;}#sk-502ffc84-0823-407d-81e4-90797de0074a div.sk-parallel-item {display: flex;flex-direction: column;position: relative;background-color: white;}#sk-502ffc84-0823-407d-81e4-90797de0074a div.sk-parallel-item:first-child::after {align-self: flex-end;width: 50%;}#sk-502ffc84-0823-407d-81e4-90797de0074a div.sk-parallel-item:last-child::after {align-self: flex-start;width: 50%;}#sk-502ffc84-0823-407d-81e4-90797de0074a div.sk-parallel-item:only-child::after {width: 0;}#sk-502ffc84-0823-407d-81e4-90797de0074a div.sk-dashed-wrapped {border: 1px dashed gray;margin: 0 0.4em 0.5em 0.4em;box-sizing: border-box;padding-bottom: 0.4em;background-color: white;position: relative;}#sk-502ffc84-0823-407d-81e4-90797de0074a div.sk-label label {font-family: monospace;font-weight: bold;background-color: white;display: inline-block;line-height: 1.2em;}#sk-502ffc84-0823-407d-81e4-90797de0074a div.sk-label-container {position: relative;z-index: 2;text-align: center;}#sk-502ffc84-0823-407d-81e4-90797de0074a div.sk-container {/* jupyter's `normalize.less` sets `[hidden] { display: none; }` but bootstrap.min.css set `[hidden] { display: none !important; }` so we also need the `!important` here to be able to override the default hidden behavior on the sphinx rendered scikit-learn.org. See: https://github.com/scikit-learn/scikit-learn/issues/21755 */display: inline-block !important;position: relative;}#sk-502ffc84-0823-407d-81e4-90797de0074a div.sk-text-repr-fallback {display: none;}</style><div id='sk-502ffc84-0823-407d-81e4-90797de0074a' class=\"sk-top-container\"><div class=\"sk-text-repr-fallback\"><pre>Rocket(n_jobs=-1, num_kernels=50000)</pre><b>Please rerun this cell to show the HTML repr or trust the notebook.</b></div><div class=\"sk-container\" hidden><div class='sk-item'><div class=\"sk-estimator sk-toggleable\"><input class=\"sk-toggleable__control sk-hidden--visually\" id=UUID('d78e7514-811b-4732-8a77-497ad65d4ff6') type=\"checkbox\" checked><label for=UUID('d78e7514-811b-4732-8a77-497ad65d4ff6') class='sk-toggleable__label sk-toggleable__label-arrow'>Rocket</label><div class=\"sk-toggleable__content\"><pre>Rocket(n_jobs=-1, num_kernels=50000)</pre></div></div></div></div></div>"
      ],
      "text/plain": [
       "Rocket(n_jobs=-1, num_kernels=50000)"
      ]
     },
     "execution_count": 26,
     "metadata": {},
     "output_type": "execute_result"
    }
   ],
   "source": [
    "rocket = Rocket(num_kernels=num_kernels, n_jobs=-1, normalise=True)\n",
    "rocket.fit(X_train, y_train)"
   ]
  },
  {
   "cell_type": "code",
   "execution_count": 27,
   "id": "e8c7ca8e-8ba2-402b-a427-9a644a6cc39b",
   "metadata": {},
   "outputs": [],
   "source": [
    "X_train_transform = rocket.transform(X_train, y_train)\n",
    "X_test_transform = rocket.transform(X_test, y_test)"
   ]
  },
  {
   "cell_type": "markdown",
   "id": "d98a5574-44a5-4b89-8612-1ef632a6217e",
   "metadata": {
    "tags": []
   },
   "source": [
    "# ExtraTreesRegressor"
   ]
  },
  {
   "cell_type": "code",
   "execution_count": 32,
   "id": "1855f870-9006-427e-b0ef-2387cb9d2c6d",
   "metadata": {},
   "outputs": [],
   "source": [
    "from sklearn.ensemble import GradientBoostingRegressor\n",
    "from sklearn.ensemble import RandomForestRegressor\n",
    "from sklearn.ensemble import ExtraTreesRegressor\n",
    "from sklearn.multioutput import MultiOutputRegressor"
   ]
  },
  {
   "cell_type": "code",
   "execution_count": 34,
   "id": "2c9ba3a1-4c38-45d9-a2b6-bea69b3091ef",
   "metadata": {
    "tags": []
   },
   "outputs": [
    {
     "ename": "KeyboardInterrupt",
     "evalue": "",
     "output_type": "error",
     "traceback": [
      "\u001b[0;31m---------------------------------------------------------------------------\u001b[0m",
      "\u001b[0;31mKeyboardInterrupt\u001b[0m                         Traceback (most recent call last)",
      "\u001b[0;32m/tmp/ipykernel_16997/1392092146.py\u001b[0m in \u001b[0;36m<module>\u001b[0;34m\u001b[0m\n\u001b[1;32m     10\u001b[0m \u001b[0;31m# Perform grid search for hyperparameter tuning\u001b[0m\u001b[0;34m\u001b[0m\u001b[0;34m\u001b[0m\u001b[0m\n\u001b[1;32m     11\u001b[0m \u001b[0mgrid_search\u001b[0m \u001b[0;34m=\u001b[0m \u001b[0mGridSearchCV\u001b[0m\u001b[0;34m(\u001b[0m\u001b[0mmodel\u001b[0m\u001b[0;34m,\u001b[0m \u001b[0mparam_grid\u001b[0m\u001b[0;34m,\u001b[0m \u001b[0mcv\u001b[0m\u001b[0;34m=\u001b[0m\u001b[0;36m5\u001b[0m\u001b[0;34m,\u001b[0m \u001b[0mn_jobs\u001b[0m\u001b[0;34m=\u001b[0m\u001b[0;34m-\u001b[0m\u001b[0;36m1\u001b[0m\u001b[0;34m)\u001b[0m\u001b[0;34m\u001b[0m\u001b[0;34m\u001b[0m\u001b[0m\n\u001b[0;32m---> 12\u001b[0;31m \u001b[0mgrid_search\u001b[0m\u001b[0;34m.\u001b[0m\u001b[0mfit\u001b[0m\u001b[0;34m(\u001b[0m\u001b[0mX_train_transform\u001b[0m\u001b[0;34m,\u001b[0m \u001b[0my_train\u001b[0m\u001b[0;34m)\u001b[0m\u001b[0;34m\u001b[0m\u001b[0;34m\u001b[0m\u001b[0m\n\u001b[0m\u001b[1;32m     13\u001b[0m \u001b[0;34m\u001b[0m\u001b[0m\n\u001b[1;32m     14\u001b[0m \u001b[0;31m# Get the best model and its hyperparameters\u001b[0m\u001b[0;34m\u001b[0m\u001b[0;34m\u001b[0m\u001b[0m\n",
      "\u001b[0;32m~/anaconda3/lib/python3.9/site-packages/sklearn/model_selection/_search.py\u001b[0m in \u001b[0;36mfit\u001b[0;34m(self, X, y, groups, **fit_params)\u001b[0m\n\u001b[1;32m    889\u001b[0m                 \u001b[0;32mreturn\u001b[0m \u001b[0mresults\u001b[0m\u001b[0;34m\u001b[0m\u001b[0;34m\u001b[0m\u001b[0m\n\u001b[1;32m    890\u001b[0m \u001b[0;34m\u001b[0m\u001b[0m\n\u001b[0;32m--> 891\u001b[0;31m             \u001b[0mself\u001b[0m\u001b[0;34m.\u001b[0m\u001b[0m_run_search\u001b[0m\u001b[0;34m(\u001b[0m\u001b[0mevaluate_candidates\u001b[0m\u001b[0;34m)\u001b[0m\u001b[0;34m\u001b[0m\u001b[0;34m\u001b[0m\u001b[0m\n\u001b[0m\u001b[1;32m    892\u001b[0m \u001b[0;34m\u001b[0m\u001b[0m\n\u001b[1;32m    893\u001b[0m             \u001b[0;31m# multimetric is determined here because in the case of a callable\u001b[0m\u001b[0;34m\u001b[0m\u001b[0;34m\u001b[0m\u001b[0m\n",
      "\u001b[0;32m~/anaconda3/lib/python3.9/site-packages/sklearn/model_selection/_search.py\u001b[0m in \u001b[0;36m_run_search\u001b[0;34m(self, evaluate_candidates)\u001b[0m\n\u001b[1;32m   1390\u001b[0m     \u001b[0;32mdef\u001b[0m \u001b[0m_run_search\u001b[0m\u001b[0;34m(\u001b[0m\u001b[0mself\u001b[0m\u001b[0;34m,\u001b[0m \u001b[0mevaluate_candidates\u001b[0m\u001b[0;34m)\u001b[0m\u001b[0;34m:\u001b[0m\u001b[0;34m\u001b[0m\u001b[0;34m\u001b[0m\u001b[0m\n\u001b[1;32m   1391\u001b[0m         \u001b[0;34m\"\"\"Search all candidates in param_grid\"\"\"\u001b[0m\u001b[0;34m\u001b[0m\u001b[0;34m\u001b[0m\u001b[0m\n\u001b[0;32m-> 1392\u001b[0;31m         \u001b[0mevaluate_candidates\u001b[0m\u001b[0;34m(\u001b[0m\u001b[0mParameterGrid\u001b[0m\u001b[0;34m(\u001b[0m\u001b[0mself\u001b[0m\u001b[0;34m.\u001b[0m\u001b[0mparam_grid\u001b[0m\u001b[0;34m)\u001b[0m\u001b[0;34m)\u001b[0m\u001b[0;34m\u001b[0m\u001b[0;34m\u001b[0m\u001b[0m\n\u001b[0m\u001b[1;32m   1393\u001b[0m \u001b[0;34m\u001b[0m\u001b[0m\n\u001b[1;32m   1394\u001b[0m \u001b[0;34m\u001b[0m\u001b[0m\n",
      "\u001b[0;32m~/anaconda3/lib/python3.9/site-packages/sklearn/model_selection/_search.py\u001b[0m in \u001b[0;36mevaluate_candidates\u001b[0;34m(candidate_params, cv, more_results)\u001b[0m\n\u001b[1;32m    836\u001b[0m                     )\n\u001b[1;32m    837\u001b[0m \u001b[0;34m\u001b[0m\u001b[0m\n\u001b[0;32m--> 838\u001b[0;31m                 out = parallel(\n\u001b[0m\u001b[1;32m    839\u001b[0m                     delayed(_fit_and_score)(\n\u001b[1;32m    840\u001b[0m                         \u001b[0mclone\u001b[0m\u001b[0;34m(\u001b[0m\u001b[0mbase_estimator\u001b[0m\u001b[0;34m)\u001b[0m\u001b[0;34m,\u001b[0m\u001b[0;34m\u001b[0m\u001b[0;34m\u001b[0m\u001b[0m\n",
      "\u001b[0;32m~/anaconda3/lib/python3.9/site-packages/joblib/parallel.py\u001b[0m in \u001b[0;36m__call__\u001b[0;34m(self, iterable)\u001b[0m\n\u001b[1;32m   1054\u001b[0m \u001b[0;34m\u001b[0m\u001b[0m\n\u001b[1;32m   1055\u001b[0m             \u001b[0;32mwith\u001b[0m \u001b[0mself\u001b[0m\u001b[0;34m.\u001b[0m\u001b[0m_backend\u001b[0m\u001b[0;34m.\u001b[0m\u001b[0mretrieval_context\u001b[0m\u001b[0;34m(\u001b[0m\u001b[0;34m)\u001b[0m\u001b[0;34m:\u001b[0m\u001b[0;34m\u001b[0m\u001b[0;34m\u001b[0m\u001b[0m\n\u001b[0;32m-> 1056\u001b[0;31m                 \u001b[0mself\u001b[0m\u001b[0;34m.\u001b[0m\u001b[0mretrieve\u001b[0m\u001b[0;34m(\u001b[0m\u001b[0;34m)\u001b[0m\u001b[0;34m\u001b[0m\u001b[0;34m\u001b[0m\u001b[0m\n\u001b[0m\u001b[1;32m   1057\u001b[0m             \u001b[0;31m# Make sure that we get a last message telling us we are done\u001b[0m\u001b[0;34m\u001b[0m\u001b[0;34m\u001b[0m\u001b[0m\n\u001b[1;32m   1058\u001b[0m             \u001b[0melapsed_time\u001b[0m \u001b[0;34m=\u001b[0m \u001b[0mtime\u001b[0m\u001b[0;34m.\u001b[0m\u001b[0mtime\u001b[0m\u001b[0;34m(\u001b[0m\u001b[0;34m)\u001b[0m \u001b[0;34m-\u001b[0m \u001b[0mself\u001b[0m\u001b[0;34m.\u001b[0m\u001b[0m_start_time\u001b[0m\u001b[0;34m\u001b[0m\u001b[0;34m\u001b[0m\u001b[0m\n",
      "\u001b[0;32m~/anaconda3/lib/python3.9/site-packages/joblib/parallel.py\u001b[0m in \u001b[0;36mretrieve\u001b[0;34m(self)\u001b[0m\n\u001b[1;32m    933\u001b[0m             \u001b[0;32mtry\u001b[0m\u001b[0;34m:\u001b[0m\u001b[0;34m\u001b[0m\u001b[0;34m\u001b[0m\u001b[0m\n\u001b[1;32m    934\u001b[0m                 \u001b[0;32mif\u001b[0m \u001b[0mgetattr\u001b[0m\u001b[0;34m(\u001b[0m\u001b[0mself\u001b[0m\u001b[0;34m.\u001b[0m\u001b[0m_backend\u001b[0m\u001b[0;34m,\u001b[0m \u001b[0;34m'supports_timeout'\u001b[0m\u001b[0;34m,\u001b[0m \u001b[0;32mFalse\u001b[0m\u001b[0;34m)\u001b[0m\u001b[0;34m:\u001b[0m\u001b[0;34m\u001b[0m\u001b[0;34m\u001b[0m\u001b[0m\n\u001b[0;32m--> 935\u001b[0;31m                     \u001b[0mself\u001b[0m\u001b[0;34m.\u001b[0m\u001b[0m_output\u001b[0m\u001b[0;34m.\u001b[0m\u001b[0mextend\u001b[0m\u001b[0;34m(\u001b[0m\u001b[0mjob\u001b[0m\u001b[0;34m.\u001b[0m\u001b[0mget\u001b[0m\u001b[0;34m(\u001b[0m\u001b[0mtimeout\u001b[0m\u001b[0;34m=\u001b[0m\u001b[0mself\u001b[0m\u001b[0;34m.\u001b[0m\u001b[0mtimeout\u001b[0m\u001b[0;34m)\u001b[0m\u001b[0;34m)\u001b[0m\u001b[0;34m\u001b[0m\u001b[0;34m\u001b[0m\u001b[0m\n\u001b[0m\u001b[1;32m    936\u001b[0m                 \u001b[0;32melse\u001b[0m\u001b[0;34m:\u001b[0m\u001b[0;34m\u001b[0m\u001b[0;34m\u001b[0m\u001b[0m\n\u001b[1;32m    937\u001b[0m                     \u001b[0mself\u001b[0m\u001b[0;34m.\u001b[0m\u001b[0m_output\u001b[0m\u001b[0;34m.\u001b[0m\u001b[0mextend\u001b[0m\u001b[0;34m(\u001b[0m\u001b[0mjob\u001b[0m\u001b[0;34m.\u001b[0m\u001b[0mget\u001b[0m\u001b[0;34m(\u001b[0m\u001b[0;34m)\u001b[0m\u001b[0;34m)\u001b[0m\u001b[0;34m\u001b[0m\u001b[0;34m\u001b[0m\u001b[0m\n",
      "\u001b[0;32m~/anaconda3/lib/python3.9/site-packages/joblib/_parallel_backends.py\u001b[0m in \u001b[0;36mwrap_future_result\u001b[0;34m(future, timeout)\u001b[0m\n\u001b[1;32m    540\u001b[0m         AsyncResults.get from multiprocessing.\"\"\"\n\u001b[1;32m    541\u001b[0m         \u001b[0;32mtry\u001b[0m\u001b[0;34m:\u001b[0m\u001b[0;34m\u001b[0m\u001b[0;34m\u001b[0m\u001b[0m\n\u001b[0;32m--> 542\u001b[0;31m             \u001b[0;32mreturn\u001b[0m \u001b[0mfuture\u001b[0m\u001b[0;34m.\u001b[0m\u001b[0mresult\u001b[0m\u001b[0;34m(\u001b[0m\u001b[0mtimeout\u001b[0m\u001b[0;34m=\u001b[0m\u001b[0mtimeout\u001b[0m\u001b[0;34m)\u001b[0m\u001b[0;34m\u001b[0m\u001b[0;34m\u001b[0m\u001b[0m\n\u001b[0m\u001b[1;32m    543\u001b[0m         \u001b[0;32mexcept\u001b[0m \u001b[0mCfTimeoutError\u001b[0m \u001b[0;32mas\u001b[0m \u001b[0me\u001b[0m\u001b[0;34m:\u001b[0m\u001b[0;34m\u001b[0m\u001b[0;34m\u001b[0m\u001b[0m\n\u001b[1;32m    544\u001b[0m             \u001b[0;32mraise\u001b[0m \u001b[0mTimeoutError\u001b[0m \u001b[0;32mfrom\u001b[0m \u001b[0me\u001b[0m\u001b[0;34m\u001b[0m\u001b[0;34m\u001b[0m\u001b[0m\n",
      "\u001b[0;32m~/anaconda3/lib/python3.9/concurrent/futures/_base.py\u001b[0m in \u001b[0;36mresult\u001b[0;34m(self, timeout)\u001b[0m\n\u001b[1;32m    439\u001b[0m                     \u001b[0;32mreturn\u001b[0m \u001b[0mself\u001b[0m\u001b[0;34m.\u001b[0m\u001b[0m__get_result\u001b[0m\u001b[0;34m(\u001b[0m\u001b[0;34m)\u001b[0m\u001b[0;34m\u001b[0m\u001b[0;34m\u001b[0m\u001b[0m\n\u001b[1;32m    440\u001b[0m \u001b[0;34m\u001b[0m\u001b[0m\n\u001b[0;32m--> 441\u001b[0;31m                 \u001b[0mself\u001b[0m\u001b[0;34m.\u001b[0m\u001b[0m_condition\u001b[0m\u001b[0;34m.\u001b[0m\u001b[0mwait\u001b[0m\u001b[0;34m(\u001b[0m\u001b[0mtimeout\u001b[0m\u001b[0;34m)\u001b[0m\u001b[0;34m\u001b[0m\u001b[0;34m\u001b[0m\u001b[0m\n\u001b[0m\u001b[1;32m    442\u001b[0m \u001b[0;34m\u001b[0m\u001b[0m\n\u001b[1;32m    443\u001b[0m                 \u001b[0;32mif\u001b[0m \u001b[0mself\u001b[0m\u001b[0;34m.\u001b[0m\u001b[0m_state\u001b[0m \u001b[0;32min\u001b[0m \u001b[0;34m[\u001b[0m\u001b[0mCANCELLED\u001b[0m\u001b[0;34m,\u001b[0m \u001b[0mCANCELLED_AND_NOTIFIED\u001b[0m\u001b[0;34m]\u001b[0m\u001b[0;34m:\u001b[0m\u001b[0;34m\u001b[0m\u001b[0;34m\u001b[0m\u001b[0m\n",
      "\u001b[0;32m~/anaconda3/lib/python3.9/threading.py\u001b[0m in \u001b[0;36mwait\u001b[0;34m(self, timeout)\u001b[0m\n\u001b[1;32m    310\u001b[0m         \u001b[0;32mtry\u001b[0m\u001b[0;34m:\u001b[0m    \u001b[0;31m# restore state no matter what (e.g., KeyboardInterrupt)\u001b[0m\u001b[0;34m\u001b[0m\u001b[0;34m\u001b[0m\u001b[0m\n\u001b[1;32m    311\u001b[0m             \u001b[0;32mif\u001b[0m \u001b[0mtimeout\u001b[0m \u001b[0;32mis\u001b[0m \u001b[0;32mNone\u001b[0m\u001b[0;34m:\u001b[0m\u001b[0;34m\u001b[0m\u001b[0;34m\u001b[0m\u001b[0m\n\u001b[0;32m--> 312\u001b[0;31m                 \u001b[0mwaiter\u001b[0m\u001b[0;34m.\u001b[0m\u001b[0macquire\u001b[0m\u001b[0;34m(\u001b[0m\u001b[0;34m)\u001b[0m\u001b[0;34m\u001b[0m\u001b[0;34m\u001b[0m\u001b[0m\n\u001b[0m\u001b[1;32m    313\u001b[0m                 \u001b[0mgotit\u001b[0m \u001b[0;34m=\u001b[0m \u001b[0;32mTrue\u001b[0m\u001b[0;34m\u001b[0m\u001b[0;34m\u001b[0m\u001b[0m\n\u001b[1;32m    314\u001b[0m             \u001b[0;32melse\u001b[0m\u001b[0;34m:\u001b[0m\u001b[0;34m\u001b[0m\u001b[0;34m\u001b[0m\u001b[0m\n",
      "\u001b[0;31mKeyboardInterrupt\u001b[0m: "
     ]
    }
   ],
   "source": [
    "# Define the ML model with MultiOutputRegressor and ExtraTreesRegressor\n",
    "model = MultiOutputRegressor(ExtraTreesRegressor(random_state=0), n_jobs=-1)\n",
    "\n",
    "# Define the hyperparameters grid for tuning\n",
    "param_grid = {\n",
    "    \"estimator__n_estimators\": [50, 100, 200],\n",
    "    \"estimator__max_depth\": [None, 5, 10],\n",
    "}\n",
    "\n",
    "# Perform grid search for hyperparameter tuning\n",
    "grid_search = GridSearchCV(model, param_grid, cv=5, n_jobs=-1)\n",
    "grid_search.fit(X_train_transform, y_train)\n",
    "\n",
    "# Get the best model and its hyperparameters\n",
    "best_model = grid_search.best_estimator_\n",
    "best_params = grid_search.best_params_\n",
    "\n",
    "# Predict on the test set using the best model\n",
    "y_pred = best_model.predict(X_test_transform)\n",
    "\n",
    "# Evaluate the model using mean squared error\n",
    "mse = mean_squared_error(y_test, y_pred)\n",
    "print(\"Mean Squared Error:\", mse)\n",
    "print(\"Best Hyperparameters:\", best_params)"
   ]
  },
  {
   "cell_type": "code",
   "execution_count": null,
   "id": "ec4840d4-65fe-4c7d-bb41-bcc3f24b2330",
   "metadata": {
    "collapsed": true,
    "jupyter": {
     "outputs_hidden": true
    },
    "tags": []
   },
   "outputs": [
    {
     "name": "stdout",
     "output_type": "stream",
     "text": [
      "Score:  0.5905781685054887\n",
      "####################\n",
      "Pred:   [0.63857121 1.50929053 3.03167114 0.61350647 1.71301636]\n",
      "Target: [0.74283918 1.6411377  2.77062988 0.65468506 2.14733887]\n",
      "####################\n",
      "Pred:   [0.85367839 1.91837158 5.09622803 0.66458069 1.84740479]\n",
      "Target: [0.88994612 1.9661377  5.14562988 0.71718506 1.77233887]\n",
      "####################\n",
      "Pred:   [0.61723727 1.36557324 5.83043701 0.67650818 1.73389771]\n",
      "Target: [0.66928571 1.4786377  6.33312988 0.68593506 1.20983887]\n",
      "####################\n",
      "Pred:   [0.80651918 1.77498437 8.90007813 0.70185547 1.72097412]\n",
      "Target: [0.81639265 1.8036377  8.70812988 0.62343506 1.58483887]\n",
      "####################\n",
      "Pred:   [0.85637038 1.86368652 6.4511377  0.69439758 1.62377808]\n",
      "Target: [0.92672285 2.0473877  5.73937988 0.76406006 1.67858887]\n",
      "####################\n",
      "Pred:   [0.63604835 1.4153833  5.46242798 0.66777466 1.95791626]\n",
      "Target: [0.50379041 1.1130127  9.00500488 0.58437256 1.81921387]\n",
      "####################\n",
      "Pred:   [0.64304671 1.53025684 1.81230347 0.65184204 2.06188721]\n",
      "Target: [0.65089735 1.4380127  1.88000488 0.64687256 1.44421387]\n",
      "####################\n",
      "Pred:   [0.59771893 1.34841235 3.79835083 0.69885742 1.81635742]\n",
      "Target: [0.57734388 1.2755127  3.06750488 0.74062256 1.63171387]\n",
      "####################\n",
      "Pred:   [0.6674926  1.45517993 6.31881958 0.69570312 1.63017212]\n",
      "Target: [0.61412061 1.3567627  7.22375488 0.69374756 1.91296387]\n",
      "####################\n",
      "Pred:   [0.95769332 2.12568286 9.07502563 0.61873718 1.92758667]\n",
      "Target: [1.05544142 2.3317627  9.59875488 0.63124756 2.28796387]\n",
      "####################\n",
      "Pred:   [0.89922488 2.09651538 3.81365845 0.65501343 1.86561279]\n",
      "Target: [0.98188795 2.1692627  3.66125488 0.72499756 1.35046387]\n",
      "####################\n",
      "Pred:   [0.75869823 1.70947339 6.69432007 0.66198669 2.04119629]\n",
      "Target: [0.81294483 1.79602051 6.50012207 0.69423584 2.33190918]\n",
      "####################\n",
      "Pred:   [0.83582749 1.99633032 4.66608398 0.65725281 2.01148193]\n",
      "Target: [0.96005176 2.12102051 4.12512207 0.75673584 1.20690918]\n",
      "####################\n",
      "Pred:   [0.98780075 2.27618262 7.87873535 0.59745361 2.11268799]\n",
      "Target: [1.03360523 2.28352051 7.68762207 0.60048584 2.14440918]\n",
      "####################\n",
      "Pred:   [0.74390338 1.76317773 7.16486694 0.72547424 1.90641235]\n",
      "Target: [0.7761681  1.71477051 7.09387207 0.77236084 2.05065918]\n",
      "####################\n",
      "Pred:   [0.71540761 1.60753003 5.05508301 0.66558167 1.32599365]\n",
      "Target: [0.84972156 1.87727051 3.53137207 0.74111084 1.11315918]\n",
      "####################\n",
      "Pred:   [0.74260545 1.57935913 6.25394775 0.6472467  1.8964624 ]\n",
      "Target: [0.5555077  1.22727051 8.28137207 0.61611084 1.86315918]\n",
      "####################\n",
      "Pred:   [0.86839456 1.89352686 1.16258789 0.6503363  1.71666748]\n",
      "Target: [0.70261463 1.55227051 1.15637207 0.55361084 1.48815918]\n",
      "####################\n",
      "Pred:   [0.63913577 1.5640105  2.74008423 0.64405396 2.03161621]\n",
      "Target: [0.57389606 1.26789551 2.64074707 0.54579834 2.37878418]\n",
      "####################\n",
      "Pred:   [0.61792932 1.46159424 5.44911499 0.76406616 1.68153687]\n",
      "Target: [0.5003426  1.10539551 6.20324707 0.76454834 1.06628418]\n",
      "####################\n"
     ]
    }
   ],
   "source": [
    "print('Score: ',best_model.score(X_test_transform, y_test))\n",
    "print('####################')\n",
    "y_pred = best_model.predict(X_test_transform)\n",
    "for n in range(20):\n",
    "    print('Pred:  ',y_pred[n])\n",
    "    print('Target:',y_test[n])\n",
    "    print('####################')"
   ]
  },
  {
   "cell_type": "markdown",
   "id": "7c532be7-81c5-461a-abef-138f02cc923b",
   "metadata": {},
   "source": [
    "# Regressor chain"
   ]
  },
  {
   "cell_type": "code",
   "execution_count": 250,
   "id": "a8e7d16f-a943-423c-9967-a73e5733cd50",
   "metadata": {},
   "outputs": [],
   "source": [
    "from sklearn import linear_model\n",
    "reg = linear_model.LassoLars(alpha=0.000001, normalize=True)\n",
    "# ~0.6 - 3 parameters\n",
    "\n",
    "# from sklearn import linear_model\n",
    "# reg = linear_model.LassoLarsIC(criterion='bic', normalize=True)\n",
    "\n",
    "# from sklearn.linear_model import LassoLarsCV\n",
    "# reg = LassoLarsCV(cv=3, normalize=True)\n",
    "\n",
    "# from sklearn.linear_model import ElasticNet\n",
    "# reg = ElasticNet(alpha=0.1, l1_ratio=0.1, normalize=False, random_state=0)\n",
    "\n",
    "# from sklearn import linear_model\n",
    "# reg = linear_model.TweedieRegressor(alpha=0.1, max_iter=1500, link='identity')\n",
    "# # 0.37 - 4 parameters alpha=0.1, max_iter=1500, link='identity'\n",
    "\n",
    "# from sklearn.linear_model import RANSACRegressor\n",
    "# reg = RANSACRegressor(random_state=0, min_samples=0.99)\n",
    "\n",
    "# scaler = preprocessing.StandardScaler().fit(X_train_twe)\n",
    "# X_train_scaled = scaler.transform(X_train_twe)"
   ]
  },
  {
   "cell_type": "code",
   "execution_count": 251,
   "id": "223c50aa-bed8-4cb2-abc5-1273c05d1374",
   "metadata": {
    "tags": []
   },
   "outputs": [
    {
     "data": {
      "text/plain": [
       "RegressorChain(base_estimator=LassoLars(alpha=1e-06, normalize=True),\n",
       "               order=[0, 1, 2, 3])"
      ]
     },
     "execution_count": 251,
     "metadata": {},
     "output_type": "execute_result"
    }
   ],
   "source": [
    "classifier = RegressorChain(reg, order=[i for i in range(len(target_variables))])\n",
    "classifier.fit(X_train_transform, y_train)"
   ]
  },
  {
   "cell_type": "code",
   "execution_count": 252,
   "id": "cbaaaec5-c03e-43ad-ae2f-fb1ada810a61",
   "metadata": {},
   "outputs": [],
   "source": [
    "save_obj(classifier, 'classifier_'+variant)"
   ]
  },
  {
   "cell_type": "code",
   "execution_count": 253,
   "id": "fcb87633-3bbc-4929-be31-b7846cf861b7",
   "metadata": {
    "tags": []
   },
   "outputs": [
    {
     "name": "stdout",
     "output_type": "stream",
     "text": [
      "Score:  0.5178806677380583\n",
      "####################\n",
      "Pred:   [0.58693722 1.25781369 5.86610679 0.95      ]\n",
      "Target: [0.51880832 1.14619141 5.76721191 0.95      ]\n",
      "####################\n",
      "Pred:   [0.57679875 1.36200497 6.4843561  0.95      ]\n",
      "Target: [0.65459933 1.44619141 8.14221191 0.95      ]\n",
      "####################\n",
      "Pred:   [0.5955695  1.37695718 2.4861957  0.95      ]\n",
      "Target: [0.6319675  1.39619141 2.20471191 0.95      ]\n",
      "####################\n",
      "Pred:   [0.58231059 1.28185269 5.15751188 0.95      ]\n",
      "Target: [0.62630954 1.38369141 4.87658691 0.95      ]\n",
      "####################\n",
      "Pred:   [0.52882933 1.20588755 2.81344491 0.95      ]\n",
      "Target: [0.58104587 1.28369141 2.50158691 0.95      ]\n",
      "####################\n",
      "Pred:   [0.5384082  1.24869962 7.76051062 0.95      ]\n",
      "Target: [0.51315036 1.13369141 8.43908691 0.95      ]\n",
      "####################\n",
      "Pred:   [0.54667477 1.26729816 2.03836521 0.95      ]\n",
      "Target: [0.52446628 1.15869141 1.90783691 0.95      ]\n",
      "####################\n",
      "Pred:   [0.52919498 1.16797619 0.86351488 0.95      ]\n",
      "Target: [0.50183444 1.10869141 0.72033691 0.95      ]\n",
      "####################\n",
      "Pred:   [0.54602742 1.14049148 8.45498173 0.95      ]\n",
      "Target: [0.54709811 1.20869141 7.84533691 0.95      ]\n",
      "####################\n",
      "Pred:   [0.59800265 1.31747289 3.27209112 0.95      ]\n",
      "Target: [0.63762546 1.40869141 3.09533691 0.95      ]\n",
      "####################\n",
      "Pred:   [0.52646802 1.31604166 2.29012367 0.95      ]\n",
      "Target: [0.67510943 1.49150391 1.57385254 0.95      ]\n",
      "####################\n",
      "Pred:   [0.5442516  1.28969116 8.9603422  0.95      ]\n",
      "Target: [0.56195025 1.24150391 7.51135254 0.95      ]\n",
      "####################\n",
      "Pred:   [0.57867463 1.29405584 3.11328382 0.95      ]\n",
      "Target: [0.57326617 1.26650391 3.35510254 0.95      ]\n",
      "####################\n",
      "Pred:   [0.52120505 1.22567909 0.73827065 0.95      ]\n",
      "Target: [0.61852984 1.36650391 0.98010254 0.95      ]\n",
      "####################\n",
      "Pred:   [0.57618622 1.30791719 4.61583387 0.95      ]\n",
      "Target: [0.59024005 1.30400391 4.83947754 0.95      ]\n",
      "####################\n",
      "Pred:   [0.5439756  1.25853081 7.49894858 0.95      ]\n",
      "Target: [0.60155597 1.32900391 6.62072754 0.95      ]\n",
      "####################\n",
      "Pred:   [0.5530266  1.24749822 8.98474112 0.95      ]\n",
      "Target: [0.5562923  1.22900391 8.99572754 0.95      ]\n",
      "####################\n",
      "Pred:   [0.52198564 1.23084401 0.20989783 0.95      ]\n",
      "Target: [0.53366046 1.17900391 0.68322754 0.95      ]\n",
      "####################\n",
      "Pred:   [0.5876036  1.30780047 3.46897403 0.95      ]\n",
      "Target: [0.58741107 1.29775391 3.50354004 0.95      ]\n",
      "####################\n",
      "Pred:   [0.55087895 1.24543978 6.89060385 0.95      ]\n",
      "Target: [0.51951556 1.14775391 7.06604004 0.95      ]\n",
      "####################\n"
     ]
    }
   ],
   "source": [
    "print('Score: ',classifier.score(X_test_transform, y_test))\n",
    "print('####################')\n",
    "y_pred = classifier.predict(X_test_transform)\n",
    "for n in range(20):\n",
    "    print('Pred:  ',y_pred[n])\n",
    "    print('Target:',y_test[n])\n",
    "    print('####################')"
   ]
  }
 ],
 "metadata": {
  "kernelspec": {
   "display_name": "base",
   "language": "python",
   "name": "python3"
  },
  "language_info": {
   "codemirror_mode": {
    "name": "ipython",
    "version": 3
   },
   "file_extension": ".py",
   "mimetype": "text/x-python",
   "name": "python",
   "nbconvert_exporter": "python",
   "pygments_lexer": "ipython3",
   "version": "3.9.13"
  },
  "vscode": {
   "interpreter": {
    "hash": "e54c91135946856665240a40f6e0527d4b65eebff412be21eef191e78ae5bc6c"
   }
  }
 },
 "nbformat": 4,
 "nbformat_minor": 5
}
